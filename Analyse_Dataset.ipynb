{
 "cells": [
  {
   "cell_type": "markdown",
   "metadata": {},
   "source": [
    "# Ce Notebook a pour but de répondre au point suivant :\n",
    "\n",
    " - 1) Traiter le jeu de données afin de repérer des variables pertinentes pour les traitements à venir. Automatiser ces traitements pour éviter de répéter ces opérations.\n",
    " \n",
    "C'est un Noteboook de nettoyage des données du dataset principal."
   ]
  },
  {
   "cell_type": "markdown",
   "metadata": {},
   "source": [
    "## List of fields:\n",
    "\n",
    "### general information:\n",
    "\n",
    " - code : barcode of the product (can be EAN-13 or internal codes for some food stores), for products without a barcode, Open Food Facts assigns a number starting with the 200 reserved prefix\n",
    " - url : url of the product page on Open Food Facts\n",
    " - creator : contributor who first added the product\n",
    " - created_t : date that the product was added (UNIX timestamp format)\n",
    " - created_datetime : date that the product was added (iso8601 format: yyyy-mm-ddThh:mn:ssZ)\n",
    " - last_modified_t : date that the product page was last modified\n",
    " - last_modified_datetime\n",
    " - product_name : name of the product\n",
    " - generic_name\n",
    " - quantity : quantity and unit\n",
    "\n",
    "### tags:\n",
    "\n",
    " - packaging : shape, material\n",
    " - packaging_tags\n",
    " - brands\n",
    " - brands_tags\n",
    " - categories\n",
    " - categories_tags\n",
    " - categories_fr\n",
    " - origins : origins of ingredients\n",
    " - origins_tags\n",
    " - manufacturing_places : places where manufactured or transformed\n",
    " - manufacturing_places_tags\n",
    " - labels\n",
    " - labels_tags\n",
    " - labels_fr\n",
    " - emb_codes\n",
    " - emb_codes_tags\n",
    " - first_packaging_code_geo : coordinates corresponding to the first packaging code indicated\n",
    " - cities\n",
    " - cities_tags\n",
    " - purchase_places\n",
    " - stores\n",
    " - countries : list of countries where the product is sold\n",
    " - countries_tags\n",
    " - countries_fr\n",
    " \n",
    "### ingredients:\n",
    "\n",
    " - ingredients_text\n",
    " - traces\n",
    " - traces_tags\n",
    "\n",
    "### misc. data:\n",
    "\n",
    " - serving_size : serving size in g\n",
    " - no_nutriments : indicates if the nutrition facts are indicated on the food label\n",
    " - additives_n : number of food additives\n",
    " - additives\n",
    " - additives_tags\n",
    " - ingredients_from_palm_oil_n\n",
    " - ingredients_from_palm_oil\n",
    " - ingredients_from_palm_oil_tags\n",
    " - ingredients_that_may_be_from_palm_oil_n\n",
    " - ingredients_that_may_be_from_palm_oil\n",
    " - ingredients_that_may_be_from_palm_oil_tags\n",
    " - nutrition_grade_fr : nutrition grade ('a' to 'e'). see http://fr.openfoodfacts.org/score-nutritionnel-experimental-france\n",
    " - main_category\n",
    " - main_category_fr\n",
    " - image_url\n",
    " - image_small_url\n",
    "\n",
    "### nutrition facts:\n",
    " \n",
    "#### Eléments à privilégier pour le Nutri-Score :\n",
    " \n",
    " - proteins_100g\n",
    " - fiber_100g\n",
    " - fruits-vegetables-nuts_100g\n",
    " \n",
    "#### Eléments à limiter pour le Nutri-Score :\n",
    " \n",
    " - energy_100g\n",
    " - saturated-fat_100g\n",
    " - sugars_100g\n",
    " - sodium_100g\n",
    " "
   ]
  },
  {
   "cell_type": "code",
   "execution_count": 1,
   "metadata": {},
   "outputs": [],
   "source": [
    "#On commence par importer les librairies utiles à l'analyse\n",
    "\n",
    "import pandas as pd\n",
    "import matplotlib.pyplot as plt\n",
    "import seaborn as sns\n",
    "import numpy as np\n",
    "import pyarrow"
   ]
  },
  {
   "cell_type": "code",
   "execution_count": 2,
   "metadata": {},
   "outputs": [],
   "source": [
    "#On stocke le dataset principal dans une variable\n",
    "data = pd.read_csv(\"en.openfoodfacts.org.products.csv\", sep = '\\t', low_memory=False)"
   ]
  },
  {
   "cell_type": "code",
   "execution_count": 3,
   "metadata": {},
   "outputs": [
    {
     "data": {
      "text/plain": [
       "(928716, 175)"
      ]
     },
     "execution_count": 3,
     "metadata": {},
     "output_type": "execute_result"
    }
   ],
   "source": [
    "data.shape"
   ]
  },
  {
   "cell_type": "markdown",
   "metadata": {},
   "source": [
    "# Définitions des fonctions de nettoyage et filtrage :"
   ]
  },
  {
   "cell_type": "code",
   "execution_count": 4,
   "metadata": {},
   "outputs": [],
   "source": [
    "#Fonction de filtrage d'un dataset\n",
    "\n",
    "#En arguments, on trouve :\n",
    "# - Le dataframe à analyser\n",
    "# - La colonne à filtrer\n",
    "# - La chaîne à rechercher\n",
    "# La fonction retourne un nouveau dataframe\n",
    "\n",
    "def Filtre(df,colonne,chaine):\n",
    "    \n",
    "    filtre_data = df[df[colonne].str.contains(chaine,case=False, na=False)]\n",
    "\n",
    "    return filtre_data"
   ]
  },
  {
   "cell_type": "code",
   "execution_count": 5,
   "metadata": {},
   "outputs": [],
   "source": [
    "#Fonction qui retourne la liste des colonnes de la catégorie nutrition\n",
    "def Champs_nutrition(df):\n",
    "    \n",
    "    liste_colonnes_nutrition = df.loc[:,df.columns.str.contains('100g',case=False, na=False)]\n",
    "    liste_colonnes_nutrition = list(liste_colonnes_nutrition.columns)\n",
    "\n",
    "    return liste_colonnes_nutrition"
   ]
  },
  {
   "cell_type": "code",
   "execution_count": 6,
   "metadata": {},
   "outputs": [],
   "source": [
    "#Fonction qui sert remettre au bon format les valeurs dans les champs nutritions de la BDD\n",
    "#Teste si la valeur est un float. Si la valeur est un string alors on la reformate en float.\n",
    "\n",
    "def Format_valeur(valeur):\n",
    "    \n",
    "    #Pour éviter les noms de colonnes\n",
    "    \n",
    "    #On teste le format de la valeur\n",
    "    if valeur < 0:\n",
    "\n",
    "        #print(valeur)\n",
    "        #S'il y a un g, on l'enlève\n",
    "        valeur = 0\n",
    "        return float(valeur)\n",
    "\n",
    "    else:\n",
    "\n",
    "        #Sinon on renvoie simplement la valeur\n",
    "        #try:\n",
    "        return float(valeur)      \n",
    "        #S'il y a une erreur, la valeur est un Nan\n",
    "        #except:\n",
    "        #    return np.Nan"
   ]
  },
  {
   "cell_type": "code",
   "execution_count": 7,
   "metadata": {
    "jupyter": {
     "source_hidden": true
    }
   },
   "outputs": [],
   "source": [
    "#Fonction de recherche de valeurs abérrantes et atypiques\n",
    "#Cette fonction est utilisée dans la section Nutrition Facts. Les données sont censées être des valeurs pour 100g de produit.\n",
    "#Barême :\n",
    "# - Si les valeurs sont comprises entre 100 et 150, elles seront ramenées à la valeur 100. Ce sont des valeurs atypiques.\n",
    "# - Si les valeurs sont supérieures à 150. Les lignes seront supprimées. Ce sont des valeurs abérrantes.\n",
    "\n",
    "def Valeurs_aber_atyp(valeur):\n",
    "    \n",
    "    #print(\"Il y a {} valeurs atypiques qui ont été traitées.\".format(len(df[(df[colonne] > 100) & (df[colonne] <= 120)].count()))\n",
    "    #print('')\n",
    "    #Traitement des valeurs atypiques\n",
    "    valeur = pd.to_numeric(valeur)\n",
    "    \n",
    "    if (valeur > 100 and valeur <= 150):\n",
    "        \n",
    "        valeur_modif = 100\n",
    "        return valeur_modif\n",
    "    elif float(valeur) > 150:\n",
    "        \n",
    "        #print(valeur)\n",
    "        valeur_modif = np.nan\n",
    "        return valeur_modif\n",
    "\n",
    "    #df.replace(df[(df.loc[:,liste_colonnes_nutrition[0]:liste_colonnes_nutrition[-1]] > 100) & (df.loc[:,liste_colonnes_nutrition[0]:liste_colonnes_nutrition[-1]] <= 150)],100,inplace = True)\n",
    "    \n",
    "    #df[(df.loc[:,liste_colonnes_nutrition[0]:liste_colonnes_nutrition[-1]] > 100) | (df.loc[:,liste_colonnes_nutrition[0]:liste_colonnes_nutrition[-1]] <= 120)] = 100\n",
    "    #nbr_ligne_avant_traitement = df.shape[0]\n",
    "    \n",
    "    #Traitement des valeurs abérrantes\n",
    "    #df.drop(df.loc[:,colonne[0]:colonne[-1]] > 120, inplace=True)\n",
    "    \n",
    "    #print(\"Il y a {} valeurs abérrantes (outliers) qui ont été supprimées.\".format(nbr_ligne_avant_traitement - df.shape[0]))\n",
    "    #print('')\n"
   ]
  },
  {
   "cell_type": "code",
   "execution_count": 8,
   "metadata": {},
   "outputs": [],
   "source": [
    "#Fonction de recherche de lignes dupliquées\n",
    "#Cette fonction recherche les lignes dupliquées entièrement.\n",
    "def Lignes_dupliquees_entieres(df):\n",
    "\n",
    "    nbr_ligne = df.loc[df.duplicated(keep=False),:].shape[0]\n",
    "    print(\"Il y a {} lignes complètes en doublon.\".format(nbr_ligne))\n",
    "\n",
    "    df.drop_duplicates(keep='first')\n",
    "    print(\"Il y a {} lignes complètes supprimées.\".format(int(nbr_ligne / 2)))"
   ]
  },
  {
   "cell_type": "code",
   "execution_count": 9,
   "metadata": {},
   "outputs": [],
   "source": [
    "#Fonction de recherche de lignes dupliquées\n",
    "#Cette fonction recherche les lignes dupliquées sur un indicateur en particulier.\n",
    "\n",
    "#Pour les lignes dupliquées suivant une colonne, on garde celle avec le plus de données dans la catégorie 'nutrition Facts'\n",
    "\n",
    "def Lignes_dupliquees_indicateur(df,colonne):\n",
    "     \n",
    "    #On recherche les lignes dupliquées sur l'indicateur 'code'\n",
    "    df_lignes_duppliquees = df.loc[df.duplicated(subset=[colonne],keep=False),:]\n",
    "    print(\"Il y a {} références en doublon sur l'indicateur {}.\".format(df_lignes_duppliquees.shape[0], colonne))\n",
    "\n",
    "    #On liste les colonnes contenant la chaine '100g' qui correspondent à la catégorie 'nutrition facts'\n",
    "    liste_colonnes_nutrition = df_lignes_duppliquees.loc[:,df_lignes_duppliquees.columns.str.contains('100g',case=False, na=False)]\n",
    "    liste_colonnes_nutrition = list(liste_colonnes_nutrition.columns)\n",
    "     \n",
    "    #On liste ensuite les code-barres dupliqués pour ensuite les traiter un à un\n",
    "    liste_doublons = list(df_lignes_duppliquees[colonne].unique())\n",
    "\n",
    "    #On ne garde que la ligne contenant le plus de données qui nous concernent pour notre application\n",
    "    #Si la comparaison donne un résultat égal, alors on garde que la première ligne\n",
    "    \n",
    "    #A REVOIR : CET ALGORYTHME NE FONCTIONNE QUE POUR DES LIGNES DUPLIQUEES 2 FOIS\n",
    "    #A ADAPTER POUR UNE PLUS GRANDE FLEXIBILITE AVEC UNE BOUCLE FOR SUR df_doublon\n",
    "    for doublon in liste_doublons:\n",
    "\n",
    "        df_doublon = df_lignes_duppliquees[df_lignes_duppliquees[colonne] ==  doublon]\n",
    "        \n",
    "        #On compte le nombre de valeurs non nulles dans les colonnes nutritions\n",
    "        test = df_doublon.loc[1:,liste_colonnes_nutrition[0]:liste_colonnes_nutrition[-1]].count(axis='columns')\n",
    "        \n",
    "        ##On teste le nombre de données renseignées sur les deux lignes sélectionnées\n",
    "        if test.index[0] > test.index[1]:\n",
    "            df.drop(df_doublon.index[0], inplace=True)\n",
    "            \n",
    "        elif test.index[0] < test.index[1]:\n",
    "            df.drop(df_doublon.index[1], inplace=True)\n",
    "            \n",
    "        elif test.index[0] == test.index[1]:\n",
    "            df.drop(df_doublon.index[1], inplace=True)\n",
    "    \n",
    "\n",
    "    print(\"Il y a {} lignes en doublon supprimées.\".format(int(len(liste_doublons) / 2)))\n",
    "    print(\"Il reste {} lignes dans le dataframe.\".format(df.shape[0]))\n"
   ]
  },
  {
   "cell_type": "code",
   "execution_count": null,
   "metadata": {
    "jupyter": {
     "source_hidden": true
    }
   },
   "outputs": [],
   "source": []
  },
  {
   "cell_type": "markdown",
   "metadata": {
    "jupyter": {
     "source_hidden": true
    }
   },
   "source": [
    "# Définitions des fonctions de création de graphiques :"
   ]
  },
  {
   "cell_type": "code",
   "execution_count": 10,
   "metadata": {
    "jupyter": {
     "source_hidden": true
    }
   },
   "outputs": [],
   "source": [
    "#Ceci est une fonction permettant de tracer un camembert\n",
    "# Pie chart\n",
    "\n",
    "def chart_pie(labels, sizes, colors, explode, title):\n",
    "    \n",
    "    labels = labels\n",
    "    sizes = sizes\n",
    "\n",
    "    # only \"explode\" the 2nd slice (i.e. 'Hogs')\n",
    "    explode = explode\n",
    "\n",
    "    #add colors\n",
    "    colors = colors\n",
    "\n",
    "    fig1, ax1 = plt.subplots(figsize=(9, 6))\n",
    "\n",
    "    ax1.pie(sizes, explode=explode, labels=labels, colors=colors, autopct='%1.1f%%',\n",
    "            shadow=True, startangle=140)\n",
    "\n",
    "    # Equal aspect ratio ensures that pie is drawn as a circle\n",
    "    ax1.axis('equal')\n",
    "    plt.title(title, bbox={'facecolor':'0.8', 'pad':5})\n",
    "    plt.tight_layout()\n",
    "    plt.show()"
   ]
  },
  {
   "cell_type": "markdown",
   "metadata": {},
   "source": [
    "# Création d'une application de prédiction de NutriScore :\n",
    "\n",
    "Cette application est destinée au service de la santé française.\n",
    "\n",
    "## 1/ Décrire et nettoyer la BDD :\n",
    "\n",
    " - Site où télécharger la BDD : https://fr.openfoodfacts.org/\n",
    " - Un dataset au format CSV : https://fr.openfoodfacts.org/data/fr.openfoodfacts.org.products.csv\n",
    " - 928716 lignes. 1 ligne = 1 produit\n",
    " - 175 colonnes. Les données sont classées en 4 catégories. Descriptions : https://world.openfoodfacts.org/data/data-fields.txt\n",
    " "
   ]
  },
  {
   "cell_type": "markdown",
   "metadata": {},
   "source": [
    "### Nombre de pays dans lesquels sont vendus les produits :"
   ]
  },
  {
   "cell_type": "code",
   "execution_count": 10,
   "metadata": {},
   "outputs": [
    {
     "name": "stdout",
     "output_type": "stream",
     "text": [
      "Il y a 1820 ligne à l'extraction.\n",
      "\n",
      "Il y a 214 pays dans lesquels des produits sont vendus dans la BDD.\n",
      "\n",
      "\n"
     ]
    }
   ],
   "source": [
    "#On recherche la liste des pays concernés dans la BDD\n",
    "liste_pays = pd.DataFrame(data['countries_fr'].unique())\n",
    "print(\"Il y a {} ligne à l'extraction.\".format(liste_pays.shape[0]))\n",
    "\n",
    "liste_pays = liste_pays.dropna()\n",
    "\n",
    "for i in liste_pays.itertuples():\n",
    "    if ',' in i[1]:\n",
    "        liste_pays = liste_pays.drop(i[0])\n",
    "        \n",
    "print('')\n",
    "print(\"Il y a {} pays dans lesquels des produits sont vendus dans la BDD.\".format(liste_pays.shape[0]))\n",
    "print('')\n",
    "print('')"
   ]
  },
  {
   "cell_type": "markdown",
   "metadata": {},
   "source": [
    "Dans un soucis de réduction de taille de la BDD initiale, nous travaillerons uniquement sur les produits vendus en France.\n",
    "\n",
    "### Nombre de produits vendus en France :"
   ]
  },
  {
   "cell_type": "code",
   "execution_count": 11,
   "metadata": {},
   "outputs": [
    {
     "name": "stdout",
     "output_type": "stream",
     "text": [
      "Il y a 589303 produits vendus en France avant nettoyage des lignes dupliquées.\n",
      "\n"
     ]
    }
   ],
   "source": [
    "# On appelle la fonction de filtrage\n",
    "vendus_France = Filtre(data,'countries_fr','France')\n",
    "\n",
    "print(\"Il y a {} produits vendus en France avant nettoyage des lignes dupliquées.\".format(vendus_France.shape[0]))\n",
    "print('')"
   ]
  },
  {
   "cell_type": "markdown",
   "metadata": {},
   "source": [
    "#### Traitement du format des champs :\n",
    "\n",
    "Dans un premier temps, on vérifie que les valeurs inscrites dans la catégorie nutrition facts sont bien des float.\n",
    "Si ce n'est pas le cas, on le reformate, et on le passe en float."
   ]
  },
  {
   "cell_type": "code",
   "execution_count": 12,
   "metadata": {},
   "outputs": [],
   "source": [
    "liste_colonnes = Champs_nutrition(data)\n",
    "\n",
    "#Hypothèse 1 :\n",
    "#data_nettoye = vendus_France.copy()\n",
    "#Hypothèse 2:\n",
    "data_nettoye = data.copy()\n",
    "\n",
    "for i in liste_colonnes:\n",
    "    \n",
    "    #print(\"Traitement de la colonne {}.\".format(i))\n",
    "    \n",
    "    data_nettoye[i] = data[i].apply(Format_valeur)\n"
   ]
  },
  {
   "cell_type": "code",
   "execution_count": 13,
   "metadata": {},
   "outputs": [
    {
     "data": {
      "text/plain": [
       "(928716, 175)"
      ]
     },
     "execution_count": 13,
     "metadata": {},
     "output_type": "execute_result"
    }
   ],
   "source": [
    "data_nettoye.shape"
   ]
  },
  {
   "cell_type": "markdown",
   "metadata": {},
   "source": [
    "#### Traitement des lignes dupliquées :\n",
    "\n",
    "Dans un second temps, on s'occupe des lignes dupliquées en deux étapes :\n",
    " - La première en supprimées deux lignes parfaitement identiques.\n",
    " - La seconde en identifiant les produits avec le même code barre. On gère ces doublons en ne gardant que ceux qui ont le plus de données dans la catégorie nutrition facts."
   ]
  },
  {
   "cell_type": "code",
   "execution_count": 14,
   "metadata": {},
   "outputs": [
    {
     "name": "stdout",
     "output_type": "stream",
     "text": [
      "Il y a 26 lignes complètes en doublon.\n",
      "Il y a 13 lignes complètes supprimées.\n",
      "\n",
      "Il y a 322 références en doublon sur l'indicateur code.\n",
      "Il y a 80 lignes en doublon supprimées.\n",
      "Il reste 928555 lignes dans le dataframe.\n",
      "\n"
     ]
    }
   ],
   "source": [
    "#On appelle les fonctions de traitement\n",
    "Lignes_dupliquees_entieres(data_nettoye)\n",
    "print('')\n",
    "\n",
    "Lignes_dupliquees_indicateur(data_nettoye,'code')\n",
    "print('')"
   ]
  },
  {
   "cell_type": "markdown",
   "metadata": {},
   "source": [
    "#### Traitement des outliers et valeurs atypiques :\n",
    "\n",
    "La troisième étape consiste à traiter les valeurs atypiques et les valeurs abbérantes (outliers) :\n",
    " - Valeur atypique : Les valeurs n'étant pas censées être > 100, celes comprises entre 100 et 150 seront ramenées à une valeur de 100.\n",
    " - Valeur abbérante : Les valeurs abbérantes seront transformées en np.Nan"
   ]
  },
  {
   "cell_type": "markdown",
   "metadata": {},
   "source": [
    "#### Calcul du nombre d'outliers en énergie\n",
    "\n",
    "Qu'est ce qu'un outlier en énergie nutritionnelle?\n",
    " - L'énergie nutritionnelle est indiquée en Kj dans la base Open Food Fact\n",
    " - La moyenne nutritionnelle journalière pour un adulte est d'environ 2000kcal\n",
    " - La conversion est la suivante : 1kJ = 0.239kcal\n",
    " - Nous pouvons rechercher des outliers à partir de 2000kcal (8373,6kJ) pour 100g de produit. Ensuite nous procèderons par pallier pour déterminer d'une limite raisonnable à traiter"
   ]
  },
  {
   "cell_type": "code",
   "execution_count": 15,
   "metadata": {},
   "outputs": [
    {
     "data": {
      "text/plain": [
       "130"
      ]
     },
     "execution_count": 15,
     "metadata": {},
     "output_type": "execute_result"
    }
   ],
   "source": [
    "df_energy = pd.DataFrame(data_nettoye.loc[:,liste_colonnes[0]])\n",
    "df_energy[df_energy > 8400].count().sum()"
   ]
  },
  {
   "cell_type": "markdown",
   "metadata": {},
   "source": [
    "#### Calcul du nombre d'outliers dans les données nutritionnelles\n",
    "\n",
    "Les données nutritionnelles représentent 100g de produits. Si leur valeur est au dessus cela veut dire qu'il y a une erreur dans la base.\n",
    "\n",
    "Examinons par palliers les outliers.\n"
   ]
  },
  {
   "cell_type": "code",
   "execution_count": 16,
   "metadata": {},
   "outputs": [
    {
     "name": "stdout",
     "output_type": "stream",
     "text": [
      "Nombre d'outliers au dessus de 100g : 9981\n",
      "Nombre d'outliers au dessus de 150g : 8662\n",
      "Nombre d'outliers au dessus de 200g : 7784\n",
      "Nombre d'outliers au dessus de 300g : 6629\n",
      "Nombre d'outliers au dessus de 500g : 4399\n"
     ]
    }
   ],
   "source": [
    "df_temp = data_nettoye.loc[:,liste_colonnes[1]:liste_colonnes[-1]]\n",
    "print(\"Nombre d'outliers au dessus de 100g :\", df_temp[df_temp > 100].count().sum())\n",
    "print(\"Nombre d'outliers au dessus de 150g :\", df_temp[df_temp > 150].count().sum())\n",
    "print(\"Nombre d'outliers au dessus de 200g :\", df_temp[df_temp > 200].count().sum())\n",
    "print(\"Nombre d'outliers au dessus de 300g :\", df_temp[df_temp > 300].count().sum())\n",
    "print(\"Nombre d'outliers au dessus de 500g :\", df_temp[df_temp > 500].count().sum())"
   ]
  },
  {
   "cell_type": "code",
   "execution_count": 17,
   "metadata": {},
   "outputs": [
    {
     "name": "stdout",
     "output_type": "stream",
     "text": [
      "Il y a 128863787 valeurs Nan dans la catégorie 'nutrition facts'.\n",
      "Il y a 10111 outliers à traiter.\n",
      "Il y a 91758583 valeurs Nan dans la catégorie 'nutrition facts' après traitement.\n",
      "\n"
     ]
    }
   ],
   "source": [
    "print(\"Il y a {} valeurs Nan dans la catégorie 'nutrition facts'.\".format(data_nettoye.isna().sum().sum()))\n",
    "\n",
    "nbr_outlier = df_temp[df_temp > 100].count().sum() + df_energy[df_energy > 8400].count().sum()\n",
    "print(\"Il y a {} outliers à traiter.\".format(nbr_outlier))\n",
    "\n",
    "#nbr_atyp = df_temp[(df_temp > 100) & (df_temp <= 150)].count().sum()\n",
    "#print(\"Il y a {} valeurs atypiques à traiter.\".format(nbr_atyp))\n",
    "\n",
    "df_energy[df_energy > 8400] = np.nan\n",
    "\n",
    "#On passe les outliers à 0\n",
    "df_temp[df_temp > 100] = 0\n",
    "\n",
    "#df_temp[(df_temp > 100) & (df_temp <= 150)] = 100\n",
    "\n",
    "#On supprime les anciennes colonnes de la catégorie nutrition facts, pour les remplacer ensuite\n",
    "data_nettoye.drop(liste_colonnes ,axis=1, inplace = True)\n",
    "\n",
    "#On rajoute les colonnes après traitement.\n",
    "data_nettoye = pd.concat([data_nettoye,df_energy], axis=1)\n",
    "data_nettoye = pd.concat([data_nettoye,df_temp], axis=1)\n",
    "\n",
    "print(\"Il y a {} valeurs Nan dans la catégorie 'nutrition facts' après traitement.\".format(data_nettoye.loc[:,liste_colonnes[0]:liste_colonnes[-1]].isna().sum().sum()))\n",
    "print('')"
   ]
  },
  {
   "cell_type": "markdown",
   "metadata": {},
   "source": [
    "#### Création du dataframe de travail\n",
    "\n",
    "On ne va garder que les colonnes en rapport avec l'application. A savoir les variables de la catégorie 'Nutrition facts', plus quelques autres indicateurs :\n",
    " - Le groupe NOVA qui nous aidera à prédire à quel groupe appartient un nouveau produit.\n",
    " - Le groupe nutritionnel\n",
    " - Le nom des produits"
   ]
  },
  {
   "cell_type": "code",
   "execution_count": 18,
   "metadata": {},
   "outputs": [
    {
     "name": "stdout",
     "output_type": "stream",
     "text": [
      "Il y a 108 colonnes dans le dataset de travail avant traitement.\n"
     ]
    }
   ],
   "source": [
    "#On sélectionne les variables de la catégories nutrition facts\n",
    "\n",
    "liste_colonnes = Champs_nutrition(data_nettoye)\n",
    "df_travail = data_nettoye.loc[:,liste_colonnes[0]:liste_colonnes[-1]]\n",
    "\n",
    "#On rajoute le groupe nutritionnel\n",
    "df_travail['nutrition_grade_fr'] = data_nettoye['nutrition_grade_fr']\n",
    "\n",
    "#On rajoute le nom du produit\n",
    "df_travail['product_name'] = data_nettoye['product_name']\n",
    "\n",
    "#On supprime la colonne nutrition-score-uk_100g, qui est doublon pour notre application\n",
    "df_travail.drop('nutrition-score-uk_100g',axis=1,inplace=True)\n",
    "\n",
    "print(\"Il y a {} colonnes dans le dataset de travail avant traitement.\".format(df_travail.shape[1]))"
   ]
  },
  {
   "cell_type": "markdown",
   "metadata": {},
   "source": [
    "#### Traitement des Nan\n",
    "\n",
    "On enlève les lignes et les colonnes complètement vides."
   ]
  },
  {
   "cell_type": "code",
   "execution_count": 19,
   "metadata": {},
   "outputs": [
    {
     "name": "stdout",
     "output_type": "stream",
     "text": [
      "Il y a 928555 lignes et 108 colonnes dans le dataframe.\n",
      "\n",
      "9 colonnes supprimées.\n",
      "Il reste 99 colonnes dans le dataframe.\n",
      "\n",
      "0 lignes supprimées.\n",
      "Il reste 928555 lignes dans le dataframe.\n",
      "\n"
     ]
    },
    {
     "data": {
      "text/html": [
       "<div>\n",
       "<style scoped>\n",
       "    .dataframe tbody tr th:only-of-type {\n",
       "        vertical-align: middle;\n",
       "    }\n",
       "\n",
       "    .dataframe tbody tr th {\n",
       "        vertical-align: top;\n",
       "    }\n",
       "\n",
       "    .dataframe thead th {\n",
       "        text-align: right;\n",
       "    }\n",
       "</style>\n",
       "<table border=\"1\" class=\"dataframe\">\n",
       "  <thead>\n",
       "    <tr style=\"text-align: right;\">\n",
       "      <th></th>\n",
       "      <th>energy_100g</th>\n",
       "      <th>energy-from-fat_100g</th>\n",
       "      <th>fat_100g</th>\n",
       "      <th>saturated-fat_100g</th>\n",
       "      <th>butyric-acid_100g</th>\n",
       "      <th>caprylic-acid_100g</th>\n",
       "      <th>capric-acid_100g</th>\n",
       "      <th>lauric-acid_100g</th>\n",
       "      <th>myristic-acid_100g</th>\n",
       "      <th>palmitic-acid_100g</th>\n",
       "      <th>...</th>\n",
       "      <th>carbon-footprint-from-meat-or-fish_100g</th>\n",
       "      <th>nutrition-score-fr_100g</th>\n",
       "      <th>glycemic-index_100g</th>\n",
       "      <th>choline_100g</th>\n",
       "      <th>phylloquinone_100g</th>\n",
       "      <th>beta-glucan_100g</th>\n",
       "      <th>inositol_100g</th>\n",
       "      <th>carnitine_100g</th>\n",
       "      <th>nutrition_grade_fr</th>\n",
       "      <th>product_name</th>\n",
       "    </tr>\n",
       "  </thead>\n",
       "  <tbody>\n",
       "    <tr>\n",
       "      <th>count</th>\n",
       "      <td>727800.000000</td>\n",
       "      <td>948.000000</td>\n",
       "      <td>722804.000000</td>\n",
       "      <td>693619.000000</td>\n",
       "      <td>1.0</td>\n",
       "      <td>1.0</td>\n",
       "      <td>4.000000</td>\n",
       "      <td>7.000000</td>\n",
       "      <td>1.0</td>\n",
       "      <td>2.000000</td>\n",
       "      <td>...</td>\n",
       "      <td>9144.000000</td>\n",
       "      <td>255262.000000</td>\n",
       "      <td>3.000000</td>\n",
       "      <td>28.000000</td>\n",
       "      <td>3.000000</td>\n",
       "      <td>20.00000</td>\n",
       "      <td>35.000000</td>\n",
       "      <td>15.000000</td>\n",
       "      <td>255262</td>\n",
       "      <td>855574</td>\n",
       "    </tr>\n",
       "    <tr>\n",
       "      <th>unique</th>\n",
       "      <td>NaN</td>\n",
       "      <td>NaN</td>\n",
       "      <td>NaN</td>\n",
       "      <td>NaN</td>\n",
       "      <td>NaN</td>\n",
       "      <td>NaN</td>\n",
       "      <td>NaN</td>\n",
       "      <td>NaN</td>\n",
       "      <td>NaN</td>\n",
       "      <td>NaN</td>\n",
       "      <td>...</td>\n",
       "      <td>NaN</td>\n",
       "      <td>NaN</td>\n",
       "      <td>NaN</td>\n",
       "      <td>NaN</td>\n",
       "      <td>NaN</td>\n",
       "      <td>NaN</td>\n",
       "      <td>NaN</td>\n",
       "      <td>NaN</td>\n",
       "      <td>5</td>\n",
       "      <td>599906</td>\n",
       "    </tr>\n",
       "    <tr>\n",
       "      <th>top</th>\n",
       "      <td>NaN</td>\n",
       "      <td>NaN</td>\n",
       "      <td>NaN</td>\n",
       "      <td>NaN</td>\n",
       "      <td>NaN</td>\n",
       "      <td>NaN</td>\n",
       "      <td>NaN</td>\n",
       "      <td>NaN</td>\n",
       "      <td>NaN</td>\n",
       "      <td>NaN</td>\n",
       "      <td>...</td>\n",
       "      <td>NaN</td>\n",
       "      <td>NaN</td>\n",
       "      <td>NaN</td>\n",
       "      <td>NaN</td>\n",
       "      <td>NaN</td>\n",
       "      <td>NaN</td>\n",
       "      <td>NaN</td>\n",
       "      <td>NaN</td>\n",
       "      <td>d</td>\n",
       "      <td>Comté</td>\n",
       "    </tr>\n",
       "    <tr>\n",
       "      <th>freq</th>\n",
       "      <td>NaN</td>\n",
       "      <td>NaN</td>\n",
       "      <td>NaN</td>\n",
       "      <td>NaN</td>\n",
       "      <td>NaN</td>\n",
       "      <td>NaN</td>\n",
       "      <td>NaN</td>\n",
       "      <td>NaN</td>\n",
       "      <td>NaN</td>\n",
       "      <td>NaN</td>\n",
       "      <td>...</td>\n",
       "      <td>NaN</td>\n",
       "      <td>NaN</td>\n",
       "      <td>NaN</td>\n",
       "      <td>NaN</td>\n",
       "      <td>NaN</td>\n",
       "      <td>NaN</td>\n",
       "      <td>NaN</td>\n",
       "      <td>NaN</td>\n",
       "      <td>78723</td>\n",
       "      <td>633</td>\n",
       "    </tr>\n",
       "    <tr>\n",
       "      <th>mean</th>\n",
       "      <td>1139.314718</td>\n",
       "      <td>8.577099</td>\n",
       "      <td>13.423230</td>\n",
       "      <td>5.216350</td>\n",
       "      <td>0.0</td>\n",
       "      <td>7.4</td>\n",
       "      <td>3.225000</td>\n",
       "      <td>41.220676</td>\n",
       "      <td>18.9</td>\n",
       "      <td>4.052590</td>\n",
       "      <td>...</td>\n",
       "      <td>13.196806</td>\n",
       "      <td>9.793843</td>\n",
       "      <td>29.333333</td>\n",
       "      <td>0.067939</td>\n",
       "      <td>0.120020</td>\n",
       "      <td>4.76000</td>\n",
       "      <td>0.026891</td>\n",
       "      <td>0.046147</td>\n",
       "      <td>NaN</td>\n",
       "      <td>NaN</td>\n",
       "    </tr>\n",
       "    <tr>\n",
       "      <th>std</th>\n",
       "      <td>804.867961</td>\n",
       "      <td>22.179443</td>\n",
       "      <td>17.378024</td>\n",
       "      <td>7.908619</td>\n",
       "      <td>NaN</td>\n",
       "      <td>NaN</td>\n",
       "      <td>3.270285</td>\n",
       "      <td>18.247937</td>\n",
       "      <td>NaN</td>\n",
       "      <td>5.723902</td>\n",
       "      <td>...</td>\n",
       "      <td>27.424667</td>\n",
       "      <td>8.142899</td>\n",
       "      <td>15.011107</td>\n",
       "      <td>0.032375</td>\n",
       "      <td>0.207828</td>\n",
       "      <td>4.24145</td>\n",
       "      <td>0.028195</td>\n",
       "      <td>0.145485</td>\n",
       "      <td>NaN</td>\n",
       "      <td>NaN</td>\n",
       "    </tr>\n",
       "    <tr>\n",
       "      <th>min</th>\n",
       "      <td>0.000000</td>\n",
       "      <td>0.000000</td>\n",
       "      <td>0.000000</td>\n",
       "      <td>0.000000</td>\n",
       "      <td>0.0</td>\n",
       "      <td>7.4</td>\n",
       "      <td>0.000000</td>\n",
       "      <td>0.044730</td>\n",
       "      <td>18.9</td>\n",
       "      <td>0.005180</td>\n",
       "      <td>...</td>\n",
       "      <td>0.000000</td>\n",
       "      <td>0.000000</td>\n",
       "      <td>14.000000</td>\n",
       "      <td>0.008000</td>\n",
       "      <td>0.000016</td>\n",
       "      <td>0.40000</td>\n",
       "      <td>0.001350</td>\n",
       "      <td>0.006500</td>\n",
       "      <td>NaN</td>\n",
       "      <td>NaN</td>\n",
       "    </tr>\n",
       "    <tr>\n",
       "      <th>25%</th>\n",
       "      <td>427.000000</td>\n",
       "      <td>0.000000</td>\n",
       "      <td>0.500000</td>\n",
       "      <td>0.100000</td>\n",
       "      <td>0.0</td>\n",
       "      <td>7.4</td>\n",
       "      <td>0.615000</td>\n",
       "      <td>45.600000</td>\n",
       "      <td>18.9</td>\n",
       "      <td>2.028885</td>\n",
       "      <td>...</td>\n",
       "      <td>0.000000</td>\n",
       "      <td>2.000000</td>\n",
       "      <td>22.000000</td>\n",
       "      <td>0.053000</td>\n",
       "      <td>0.000031</td>\n",
       "      <td>3.50000</td>\n",
       "      <td>0.008950</td>\n",
       "      <td>0.007050</td>\n",
       "      <td>NaN</td>\n",
       "      <td>NaN</td>\n",
       "    </tr>\n",
       "    <tr>\n",
       "      <th>50%</th>\n",
       "      <td>1096.000000</td>\n",
       "      <td>0.000000</td>\n",
       "      <td>6.700000</td>\n",
       "      <td>1.900000</td>\n",
       "      <td>0.0</td>\n",
       "      <td>7.4</td>\n",
       "      <td>3.350000</td>\n",
       "      <td>49.000000</td>\n",
       "      <td>18.9</td>\n",
       "      <td>4.052590</td>\n",
       "      <td>...</td>\n",
       "      <td>0.000000</td>\n",
       "      <td>10.000000</td>\n",
       "      <td>30.000000</td>\n",
       "      <td>0.069000</td>\n",
       "      <td>0.000045</td>\n",
       "      <td>4.00000</td>\n",
       "      <td>0.022000</td>\n",
       "      <td>0.008500</td>\n",
       "      <td>NaN</td>\n",
       "      <td>NaN</td>\n",
       "    </tr>\n",
       "    <tr>\n",
       "      <th>75%</th>\n",
       "      <td>1674.000000</td>\n",
       "      <td>0.000000</td>\n",
       "      <td>21.180000</td>\n",
       "      <td>7.500000</td>\n",
       "      <td>0.0</td>\n",
       "      <td>7.4</td>\n",
       "      <td>5.960000</td>\n",
       "      <td>49.150000</td>\n",
       "      <td>18.9</td>\n",
       "      <td>6.076295</td>\n",
       "      <td>...</td>\n",
       "      <td>0.000000</td>\n",
       "      <td>16.000000</td>\n",
       "      <td>37.000000</td>\n",
       "      <td>0.089000</td>\n",
       "      <td>0.180023</td>\n",
       "      <td>5.20000</td>\n",
       "      <td>0.027000</td>\n",
       "      <td>0.011000</td>\n",
       "      <td>NaN</td>\n",
       "      <td>NaN</td>\n",
       "    </tr>\n",
       "    <tr>\n",
       "      <th>max</th>\n",
       "      <td>8400.000000</td>\n",
       "      <td>100.000000</td>\n",
       "      <td>100.000000</td>\n",
       "      <td>100.000000</td>\n",
       "      <td>0.0</td>\n",
       "      <td>7.4</td>\n",
       "      <td>6.200000</td>\n",
       "      <td>50.000000</td>\n",
       "      <td>18.9</td>\n",
       "      <td>8.100000</td>\n",
       "      <td>...</td>\n",
       "      <td>99.960000</td>\n",
       "      <td>40.000000</td>\n",
       "      <td>44.000000</td>\n",
       "      <td>0.130000</td>\n",
       "      <td>0.360000</td>\n",
       "      <td>21.50000</td>\n",
       "      <td>0.150000</td>\n",
       "      <td>0.572000</td>\n",
       "      <td>NaN</td>\n",
       "      <td>NaN</td>\n",
       "    </tr>\n",
       "  </tbody>\n",
       "</table>\n",
       "<p>11 rows × 99 columns</p>\n",
       "</div>"
      ],
      "text/plain": [
       "          energy_100g  energy-from-fat_100g       fat_100g  \\\n",
       "count   727800.000000            948.000000  722804.000000   \n",
       "unique            NaN                   NaN            NaN   \n",
       "top               NaN                   NaN            NaN   \n",
       "freq              NaN                   NaN            NaN   \n",
       "mean      1139.314718              8.577099      13.423230   \n",
       "std        804.867961             22.179443      17.378024   \n",
       "min          0.000000              0.000000       0.000000   \n",
       "25%        427.000000              0.000000       0.500000   \n",
       "50%       1096.000000              0.000000       6.700000   \n",
       "75%       1674.000000              0.000000      21.180000   \n",
       "max       8400.000000            100.000000     100.000000   \n",
       "\n",
       "        saturated-fat_100g  butyric-acid_100g  caprylic-acid_100g  \\\n",
       "count        693619.000000                1.0                 1.0   \n",
       "unique                 NaN                NaN                 NaN   \n",
       "top                    NaN                NaN                 NaN   \n",
       "freq                   NaN                NaN                 NaN   \n",
       "mean              5.216350                0.0                 7.4   \n",
       "std               7.908619                NaN                 NaN   \n",
       "min               0.000000                0.0                 7.4   \n",
       "25%               0.100000                0.0                 7.4   \n",
       "50%               1.900000                0.0                 7.4   \n",
       "75%               7.500000                0.0                 7.4   \n",
       "max             100.000000                0.0                 7.4   \n",
       "\n",
       "        capric-acid_100g  lauric-acid_100g  myristic-acid_100g  \\\n",
       "count           4.000000          7.000000                 1.0   \n",
       "unique               NaN               NaN                 NaN   \n",
       "top                  NaN               NaN                 NaN   \n",
       "freq                 NaN               NaN                 NaN   \n",
       "mean            3.225000         41.220676                18.9   \n",
       "std             3.270285         18.247937                 NaN   \n",
       "min             0.000000          0.044730                18.9   \n",
       "25%             0.615000         45.600000                18.9   \n",
       "50%             3.350000         49.000000                18.9   \n",
       "75%             5.960000         49.150000                18.9   \n",
       "max             6.200000         50.000000                18.9   \n",
       "\n",
       "        palmitic-acid_100g  ...  carbon-footprint-from-meat-or-fish_100g  \\\n",
       "count             2.000000  ...                              9144.000000   \n",
       "unique                 NaN  ...                                      NaN   \n",
       "top                    NaN  ...                                      NaN   \n",
       "freq                   NaN  ...                                      NaN   \n",
       "mean              4.052590  ...                                13.196806   \n",
       "std               5.723902  ...                                27.424667   \n",
       "min               0.005180  ...                                 0.000000   \n",
       "25%               2.028885  ...                                 0.000000   \n",
       "50%               4.052590  ...                                 0.000000   \n",
       "75%               6.076295  ...                                 0.000000   \n",
       "max               8.100000  ...                                99.960000   \n",
       "\n",
       "        nutrition-score-fr_100g  glycemic-index_100g  choline_100g  \\\n",
       "count             255262.000000             3.000000     28.000000   \n",
       "unique                      NaN                  NaN           NaN   \n",
       "top                         NaN                  NaN           NaN   \n",
       "freq                        NaN                  NaN           NaN   \n",
       "mean                   9.793843            29.333333      0.067939   \n",
       "std                    8.142899            15.011107      0.032375   \n",
       "min                    0.000000            14.000000      0.008000   \n",
       "25%                    2.000000            22.000000      0.053000   \n",
       "50%                   10.000000            30.000000      0.069000   \n",
       "75%                   16.000000            37.000000      0.089000   \n",
       "max                   40.000000            44.000000      0.130000   \n",
       "\n",
       "        phylloquinone_100g  beta-glucan_100g  inositol_100g  carnitine_100g  \\\n",
       "count             3.000000          20.00000      35.000000       15.000000   \n",
       "unique                 NaN               NaN            NaN             NaN   \n",
       "top                    NaN               NaN            NaN             NaN   \n",
       "freq                   NaN               NaN            NaN             NaN   \n",
       "mean              0.120020           4.76000       0.026891        0.046147   \n",
       "std               0.207828           4.24145       0.028195        0.145485   \n",
       "min               0.000016           0.40000       0.001350        0.006500   \n",
       "25%               0.000031           3.50000       0.008950        0.007050   \n",
       "50%               0.000045           4.00000       0.022000        0.008500   \n",
       "75%               0.180023           5.20000       0.027000        0.011000   \n",
       "max               0.360000          21.50000       0.150000        0.572000   \n",
       "\n",
       "        nutrition_grade_fr  product_name  \n",
       "count               255262        855574  \n",
       "unique                   5        599906  \n",
       "top                      d         Comté  \n",
       "freq                 78723           633  \n",
       "mean                   NaN           NaN  \n",
       "std                    NaN           NaN  \n",
       "min                    NaN           NaN  \n",
       "25%                    NaN           NaN  \n",
       "50%                    NaN           NaN  \n",
       "75%                    NaN           NaN  \n",
       "max                    NaN           NaN  \n",
       "\n",
       "[11 rows x 99 columns]"
      ]
     },
     "execution_count": 19,
     "metadata": {},
     "output_type": "execute_result"
    }
   ],
   "source": [
    "liste_colonnes = Champs_nutrition(df_travail)\n",
    "\n",
    "nbr_lignes_avant_traitement = df_travail.shape[0]\n",
    "nbr_colonnes_avant_traitement = df_travail.shape[1]\n",
    "\n",
    "print(\"Il y a {} lignes et {} colonnes dans le dataframe.\".format(nbr_lignes_avant_traitement,nbr_colonnes_avant_traitement))\n",
    "print('')\n",
    "\n",
    "#On supprime les colonnes contenant les données nutritionnelles vides\n",
    "df_travail = df_travail.dropna(axis = 1, how = 'all')\n",
    "nbr_colonnes_apres_traitement = df_travail.shape[1]\n",
    "print(\"{} colonnes supprimées.\".format(nbr_colonnes_avant_traitement - nbr_colonnes_apres_traitement))  \n",
    "print(\"Il reste {} colonnes dans le dataframe.\".format( df_travail.shape[1]))\n",
    "print('')\n",
    "\n",
    "#On supprime les lignes contenant les données nutritionnelles vides \n",
    "df_travail.loc[:,liste_colonnes[0]:liste_colonnes[-1]].dropna(axis = 0, how = 'all')\n",
    "df_travail = df_travail.reset_index(drop=True)\n",
    "\n",
    "nbr_lignes_apres_traitement = df_travail.shape[0]\n",
    "print(\"{} lignes supprimées.\".format(nbr_lignes_avant_traitement - nbr_lignes_apres_traitement))\n",
    "print(\"Il reste {} lignes dans le dataframe.\".format(nbr_lignes_apres_traitement))     \n",
    "print('')\n",
    "      \n",
    "df_travail.describe(include='all')"
   ]
  },
  {
   "cell_type": "markdown",
   "metadata": {},
   "source": [
    "#### Suppression des indicateurs avec un remplissage faible\n",
    "\n",
    "Effectuons pour commencer, une vérification par palliers du taux de remplissage des données. Cela nous permettra de faire un choix judicieux d'une limite minimum."
   ]
  },
  {
   "cell_type": "code",
   "execution_count": 20,
   "metadata": {},
   "outputs": [
    {
     "name": "stdout",
     "output_type": "stream",
     "text": [
      "Il y a 97 indicateurs dans la base.\n",
      "Pour une limite à 100000 données, il reste 16 indicateurs. Cela représente moins de 10.769421305146167 % des données.\n",
      "Pour une limite à 50000 données, il reste 16 indicateurs. Cela représente moins de 5.384710652573084 % des données.\n",
      "Pour une limite à 30000 données, il reste 16 indicateurs. Cela représente moins de 3.2308263915438507 % des données.\n",
      "Pour une limite à 20000 données, il reste 19 indicateurs. Cela représente moins de 2.1538842610292335 % des données.\n",
      "Pour une limite à 10000 données, il reste 23 indicateurs. Cela représente moins de 1.0769421305146167 % des données.\n",
      "Pour une limite à 1000 données, il reste 42 indicateurs. Cela représente moins de 0.10769421305146167 % des données.\n"
     ]
    }
   ],
   "source": [
    "liste_colonnes = Champs_nutrition(df_travail)\n",
    "\n",
    "myliste = df_travail.loc[:,liste_colonnes[0]:liste_colonnes[-1]].count()\n",
    "\n",
    "test1 = myliste[myliste[liste_colonnes] < 100000]\n",
    "test2 = myliste[myliste[liste_colonnes] < 50000]\n",
    "test6 = myliste[myliste[liste_colonnes] < 30000]\n",
    "test3 = myliste[myliste[liste_colonnes] < 20000]\n",
    "test4 = myliste[myliste[liste_colonnes] < 10000]\n",
    "test5 = myliste[myliste[liste_colonnes] < 1000]\n",
    "print(\"Il y a {} indicateurs dans la base.\".format(len(myliste)))\n",
    "print(\"Pour une limite à 100000 données, il reste {} indicateurs.\".format(len(myliste)-len(test1)), \"Cela représente moins de\", ((100000/df_travail.shape[0]))*100, \"% des données.\")\n",
    "print(\"Pour une limite à 50000 données, il reste {} indicateurs.\".format(len(myliste)-len(test2)), \"Cela représente moins de\", ((50000/df_travail.shape[0]))*100, \"% des données.\")\n",
    "print(\"Pour une limite à 30000 données, il reste {} indicateurs.\".format(len(myliste)-len(test6)), \"Cela représente moins de\", ((30000/df_travail.shape[0]))*100, \"% des données.\")\n",
    "print(\"Pour une limite à 20000 données, il reste {} indicateurs.\".format(len(myliste)-len(test3)), \"Cela représente moins de\", ((20000/df_travail.shape[0]))*100, \"% des données.\")\n",
    "print(\"Pour une limite à 10000 données, il reste {} indicateurs.\".format(len(myliste)-len(test4)), \"Cela représente moins de\", ((10000/df_travail.shape[0]))*100, \"% des données.\")\n",
    "print(\"Pour une limite à 1000 données, il reste {} indicateurs.\".format(len(myliste)-len(test5)), \"Cela représente moins de\", ((1000/df_travail.shape[0]))*100, \"% des données.\")\n"
   ]
  },
  {
   "cell_type": "code",
   "execution_count": 21,
   "metadata": {},
   "outputs": [
    {
     "name": "stdout",
     "output_type": "stream",
     "text": [
      "Il reste 928555 lignes dans le dataset.\n",
      "\n",
      "Il reste 18 colonnes dans le dataset.\n"
     ]
    },
    {
     "data": {
      "text/html": [
       "<div>\n",
       "<style scoped>\n",
       "    .dataframe tbody tr th:only-of-type {\n",
       "        vertical-align: middle;\n",
       "    }\n",
       "\n",
       "    .dataframe tbody tr th {\n",
       "        vertical-align: top;\n",
       "    }\n",
       "\n",
       "    .dataframe thead th {\n",
       "        text-align: right;\n",
       "    }\n",
       "</style>\n",
       "<table border=\"1\" class=\"dataframe\">\n",
       "  <thead>\n",
       "    <tr style=\"text-align: right;\">\n",
       "      <th></th>\n",
       "      <th>energy_100g</th>\n",
       "      <th>fat_100g</th>\n",
       "      <th>saturated-fat_100g</th>\n",
       "      <th>trans-fat_100g</th>\n",
       "      <th>cholesterol_100g</th>\n",
       "      <th>carbohydrates_100g</th>\n",
       "      <th>sugars_100g</th>\n",
       "      <th>fiber_100g</th>\n",
       "      <th>proteins_100g</th>\n",
       "      <th>salt_100g</th>\n",
       "      <th>sodium_100g</th>\n",
       "      <th>vitamin-a_100g</th>\n",
       "      <th>vitamin-c_100g</th>\n",
       "      <th>calcium_100g</th>\n",
       "      <th>iron_100g</th>\n",
       "      <th>nutrition-score-fr_100g</th>\n",
       "      <th>nutrition_grade_fr</th>\n",
       "      <th>product_name</th>\n",
       "    </tr>\n",
       "  </thead>\n",
       "  <tbody>\n",
       "    <tr>\n",
       "      <th>count</th>\n",
       "      <td>727800.000000</td>\n",
       "      <td>722804.000000</td>\n",
       "      <td>693619.000000</td>\n",
       "      <td>144208.000000</td>\n",
       "      <td>144943.000000</td>\n",
       "      <td>722853.000000</td>\n",
       "      <td>709228.000000</td>\n",
       "      <td>295294.000000</td>\n",
       "      <td>725254.000000</td>\n",
       "      <td>704874.000000</td>\n",
       "      <td>704864.000000</td>\n",
       "      <td>138824.000000</td>\n",
       "      <td>142346.000000</td>\n",
       "      <td>145370.000000</td>\n",
       "      <td>142402.000000</td>\n",
       "      <td>255262.000000</td>\n",
       "      <td>255262</td>\n",
       "      <td>855574</td>\n",
       "    </tr>\n",
       "    <tr>\n",
       "      <th>unique</th>\n",
       "      <td>NaN</td>\n",
       "      <td>NaN</td>\n",
       "      <td>NaN</td>\n",
       "      <td>NaN</td>\n",
       "      <td>NaN</td>\n",
       "      <td>NaN</td>\n",
       "      <td>NaN</td>\n",
       "      <td>NaN</td>\n",
       "      <td>NaN</td>\n",
       "      <td>NaN</td>\n",
       "      <td>NaN</td>\n",
       "      <td>NaN</td>\n",
       "      <td>NaN</td>\n",
       "      <td>NaN</td>\n",
       "      <td>NaN</td>\n",
       "      <td>NaN</td>\n",
       "      <td>5</td>\n",
       "      <td>599906</td>\n",
       "    </tr>\n",
       "    <tr>\n",
       "      <th>top</th>\n",
       "      <td>NaN</td>\n",
       "      <td>NaN</td>\n",
       "      <td>NaN</td>\n",
       "      <td>NaN</td>\n",
       "      <td>NaN</td>\n",
       "      <td>NaN</td>\n",
       "      <td>NaN</td>\n",
       "      <td>NaN</td>\n",
       "      <td>NaN</td>\n",
       "      <td>NaN</td>\n",
       "      <td>NaN</td>\n",
       "      <td>NaN</td>\n",
       "      <td>NaN</td>\n",
       "      <td>NaN</td>\n",
       "      <td>NaN</td>\n",
       "      <td>NaN</td>\n",
       "      <td>d</td>\n",
       "      <td>Comté</td>\n",
       "    </tr>\n",
       "    <tr>\n",
       "      <th>freq</th>\n",
       "      <td>NaN</td>\n",
       "      <td>NaN</td>\n",
       "      <td>NaN</td>\n",
       "      <td>NaN</td>\n",
       "      <td>NaN</td>\n",
       "      <td>NaN</td>\n",
       "      <td>NaN</td>\n",
       "      <td>NaN</td>\n",
       "      <td>NaN</td>\n",
       "      <td>NaN</td>\n",
       "      <td>NaN</td>\n",
       "      <td>NaN</td>\n",
       "      <td>NaN</td>\n",
       "      <td>NaN</td>\n",
       "      <td>NaN</td>\n",
       "      <td>NaN</td>\n",
       "      <td>78723</td>\n",
       "      <td>633</td>\n",
       "    </tr>\n",
       "    <tr>\n",
       "      <th>mean</th>\n",
       "      <td>1139.314718</td>\n",
       "      <td>13.423230</td>\n",
       "      <td>5.216350</td>\n",
       "      <td>0.068582</td>\n",
       "      <td>0.024854</td>\n",
       "      <td>28.855968</td>\n",
       "      <td>14.493841</td>\n",
       "      <td>2.976184</td>\n",
       "      <td>8.118800</td>\n",
       "      <td>1.426903</td>\n",
       "      <td>0.585836</td>\n",
       "      <td>0.002264</td>\n",
       "      <td>0.024381</td>\n",
       "      <td>0.114011</td>\n",
       "      <td>0.006412</td>\n",
       "      <td>9.793843</td>\n",
       "      <td>NaN</td>\n",
       "      <td>NaN</td>\n",
       "    </tr>\n",
       "    <tr>\n",
       "      <th>std</th>\n",
       "      <td>804.867961</td>\n",
       "      <td>17.378024</td>\n",
       "      <td>7.908619</td>\n",
       "      <td>0.985320</td>\n",
       "      <td>0.644252</td>\n",
       "      <td>28.342753</td>\n",
       "      <td>20.446463</td>\n",
       "      <td>5.088761</td>\n",
       "      <td>9.415877</td>\n",
       "      <td>5.559972</td>\n",
       "      <td>2.472420</td>\n",
       "      <td>0.366247</td>\n",
       "      <td>0.837939</td>\n",
       "      <td>0.983131</td>\n",
       "      <td>0.315165</td>\n",
       "      <td>8.142899</td>\n",
       "      <td>NaN</td>\n",
       "      <td>NaN</td>\n",
       "    </tr>\n",
       "    <tr>\n",
       "      <th>min</th>\n",
       "      <td>0.000000</td>\n",
       "      <td>0.000000</td>\n",
       "      <td>0.000000</td>\n",
       "      <td>0.000000</td>\n",
       "      <td>0.000000</td>\n",
       "      <td>0.000000</td>\n",
       "      <td>0.000000</td>\n",
       "      <td>0.000000</td>\n",
       "      <td>0.000000</td>\n",
       "      <td>0.000000</td>\n",
       "      <td>0.000000</td>\n",
       "      <td>0.000000</td>\n",
       "      <td>0.000000</td>\n",
       "      <td>0.000000</td>\n",
       "      <td>0.000000</td>\n",
       "      <td>0.000000</td>\n",
       "      <td>NaN</td>\n",
       "      <td>NaN</td>\n",
       "    </tr>\n",
       "    <tr>\n",
       "      <th>25%</th>\n",
       "      <td>427.000000</td>\n",
       "      <td>0.500000</td>\n",
       "      <td>0.100000</td>\n",
       "      <td>0.000000</td>\n",
       "      <td>0.000000</td>\n",
       "      <td>3.700000</td>\n",
       "      <td>0.800000</td>\n",
       "      <td>0.000000</td>\n",
       "      <td>1.100000</td>\n",
       "      <td>0.060000</td>\n",
       "      <td>0.020000</td>\n",
       "      <td>0.000000</td>\n",
       "      <td>0.000000</td>\n",
       "      <td>0.000000</td>\n",
       "      <td>0.000000</td>\n",
       "      <td>2.000000</td>\n",
       "      <td>NaN</td>\n",
       "      <td>NaN</td>\n",
       "    </tr>\n",
       "    <tr>\n",
       "      <th>50%</th>\n",
       "      <td>1096.000000</td>\n",
       "      <td>6.700000</td>\n",
       "      <td>1.900000</td>\n",
       "      <td>0.000000</td>\n",
       "      <td>0.000000</td>\n",
       "      <td>16.000000</td>\n",
       "      <td>4.200000</td>\n",
       "      <td>1.600000</td>\n",
       "      <td>5.600000</td>\n",
       "      <td>0.510000</td>\n",
       "      <td>0.200000</td>\n",
       "      <td>0.000000</td>\n",
       "      <td>0.000000</td>\n",
       "      <td>0.036000</td>\n",
       "      <td>0.001030</td>\n",
       "      <td>10.000000</td>\n",
       "      <td>NaN</td>\n",
       "      <td>NaN</td>\n",
       "    </tr>\n",
       "    <tr>\n",
       "      <th>75%</th>\n",
       "      <td>1674.000000</td>\n",
       "      <td>21.180000</td>\n",
       "      <td>7.500000</td>\n",
       "      <td>0.000000</td>\n",
       "      <td>0.020000</td>\n",
       "      <td>54.100000</td>\n",
       "      <td>21.000000</td>\n",
       "      <td>3.600000</td>\n",
       "      <td>11.580000</td>\n",
       "      <td>1.310000</td>\n",
       "      <td>0.520000</td>\n",
       "      <td>0.000107</td>\n",
       "      <td>0.003900</td>\n",
       "      <td>0.114000</td>\n",
       "      <td>0.002450</td>\n",
       "      <td>16.000000</td>\n",
       "      <td>NaN</td>\n",
       "      <td>NaN</td>\n",
       "    </tr>\n",
       "    <tr>\n",
       "      <th>max</th>\n",
       "      <td>8400.000000</td>\n",
       "      <td>100.000000</td>\n",
       "      <td>100.000000</td>\n",
       "      <td>100.000000</td>\n",
       "      <td>97.900000</td>\n",
       "      <td>100.000000</td>\n",
       "      <td>100.000000</td>\n",
       "      <td>100.000000</td>\n",
       "      <td>100.000000</td>\n",
       "      <td>100.000000</td>\n",
       "      <td>100.000000</td>\n",
       "      <td>100.000000</td>\n",
       "      <td>100.000000</td>\n",
       "      <td>100.000000</td>\n",
       "      <td>50.000000</td>\n",
       "      <td>40.000000</td>\n",
       "      <td>NaN</td>\n",
       "      <td>NaN</td>\n",
       "    </tr>\n",
       "  </tbody>\n",
       "</table>\n",
       "</div>"
      ],
      "text/plain": [
       "          energy_100g       fat_100g  saturated-fat_100g  trans-fat_100g  \\\n",
       "count   727800.000000  722804.000000       693619.000000   144208.000000   \n",
       "unique            NaN            NaN                 NaN             NaN   \n",
       "top               NaN            NaN                 NaN             NaN   \n",
       "freq              NaN            NaN                 NaN             NaN   \n",
       "mean      1139.314718      13.423230            5.216350        0.068582   \n",
       "std        804.867961      17.378024            7.908619        0.985320   \n",
       "min          0.000000       0.000000            0.000000        0.000000   \n",
       "25%        427.000000       0.500000            0.100000        0.000000   \n",
       "50%       1096.000000       6.700000            1.900000        0.000000   \n",
       "75%       1674.000000      21.180000            7.500000        0.000000   \n",
       "max       8400.000000     100.000000          100.000000      100.000000   \n",
       "\n",
       "        cholesterol_100g  carbohydrates_100g    sugars_100g     fiber_100g  \\\n",
       "count      144943.000000       722853.000000  709228.000000  295294.000000   \n",
       "unique               NaN                 NaN            NaN            NaN   \n",
       "top                  NaN                 NaN            NaN            NaN   \n",
       "freq                 NaN                 NaN            NaN            NaN   \n",
       "mean            0.024854           28.855968      14.493841       2.976184   \n",
       "std             0.644252           28.342753      20.446463       5.088761   \n",
       "min             0.000000            0.000000       0.000000       0.000000   \n",
       "25%             0.000000            3.700000       0.800000       0.000000   \n",
       "50%             0.000000           16.000000       4.200000       1.600000   \n",
       "75%             0.020000           54.100000      21.000000       3.600000   \n",
       "max            97.900000          100.000000     100.000000     100.000000   \n",
       "\n",
       "        proteins_100g      salt_100g    sodium_100g  vitamin-a_100g  \\\n",
       "count   725254.000000  704874.000000  704864.000000   138824.000000   \n",
       "unique            NaN            NaN            NaN             NaN   \n",
       "top               NaN            NaN            NaN             NaN   \n",
       "freq              NaN            NaN            NaN             NaN   \n",
       "mean         8.118800       1.426903       0.585836        0.002264   \n",
       "std          9.415877       5.559972       2.472420        0.366247   \n",
       "min          0.000000       0.000000       0.000000        0.000000   \n",
       "25%          1.100000       0.060000       0.020000        0.000000   \n",
       "50%          5.600000       0.510000       0.200000        0.000000   \n",
       "75%         11.580000       1.310000       0.520000        0.000107   \n",
       "max        100.000000     100.000000     100.000000      100.000000   \n",
       "\n",
       "        vitamin-c_100g   calcium_100g      iron_100g  nutrition-score-fr_100g  \\\n",
       "count    142346.000000  145370.000000  142402.000000            255262.000000   \n",
       "unique             NaN            NaN            NaN                      NaN   \n",
       "top                NaN            NaN            NaN                      NaN   \n",
       "freq               NaN            NaN            NaN                      NaN   \n",
       "mean          0.024381       0.114011       0.006412                 9.793843   \n",
       "std           0.837939       0.983131       0.315165                 8.142899   \n",
       "min           0.000000       0.000000       0.000000                 0.000000   \n",
       "25%           0.000000       0.000000       0.000000                 2.000000   \n",
       "50%           0.000000       0.036000       0.001030                10.000000   \n",
       "75%           0.003900       0.114000       0.002450                16.000000   \n",
       "max         100.000000     100.000000      50.000000                40.000000   \n",
       "\n",
       "       nutrition_grade_fr product_name  \n",
       "count              255262       855574  \n",
       "unique                  5       599906  \n",
       "top                     d        Comté  \n",
       "freq                78723          633  \n",
       "mean                  NaN          NaN  \n",
       "std                   NaN          NaN  \n",
       "min                   NaN          NaN  \n",
       "25%                   NaN          NaN  \n",
       "50%                   NaN          NaN  \n",
       "75%                   NaN          NaN  \n",
       "max                   NaN          NaN  "
      ]
     },
     "execution_count": 21,
     "metadata": {},
     "output_type": "execute_result"
    }
   ],
   "source": [
    "liste_colonnes = Champs_nutrition(df_travail)\n",
    "\n",
    "myliste = df_travail.loc[:,liste_colonnes[0]:liste_colonnes[-1]].count()\n",
    "myliste = myliste[myliste[liste_colonnes] < 30000]\n",
    "myliste = myliste.index\n",
    "\n",
    "df_travail.drop(myliste ,axis=1, inplace = True)\n",
    "\n",
    "print(\"Il reste {} lignes dans le dataset.\".format(df_travail.shape[0]))\n",
    "print('')\n",
    "print(\"Il reste {} colonnes dans le dataset.\".format(df_travail.shape[1]))\n",
    "df_travail.describe(include='all')"
   ]
  },
  {
   "cell_type": "markdown",
   "metadata": {},
   "source": [
    "#### Analyse pourcentage taux de données disponibles\n",
    "\n",
    "On ne va utiliser que les indicateurs les plus remplis. Pour cela, la limite mini est fixée à 30000 données par indicateur. Ce qui représente 5% du nombre de produits."
   ]
  },
  {
   "cell_type": "code",
   "execution_count": 22,
   "metadata": {},
   "outputs": [
    {
     "data": {
      "image/png": "[encoded data removed]",
      "text/plain": [
       "<Figure size 864x432 with 1 Axes>"
      ]
     },
     "metadata": {
      "needs_background": "light"
     },
     "output_type": "display_data"
    }
   ],
   "source": [
    "liste_colonnes = Champs_nutrition(df_travail)\n",
    "\n",
    "df_donnees = df_travail.loc[:,liste_colonnes[0]:liste_colonnes[-1]].count()\n",
    "df_donnees.sort_values(ascending=False)\n",
    "\n",
    "#On trace le graphique correspondant en appelant la fonction écrite plus haut\n",
    "labels = list(df_donnees.index)\n",
    "sizes = list(df_donnees)\n",
    "\n",
    "plt.subplots(figsize=(12, 6))\n",
    "plt.bar(labels, sizes, width = 0.5, color = 'lightgreen')\n",
    "plt.title(\"Indicateurs exploitables dans la base de données pour notre application\",size=18)\n",
    "plt.ylabel(\"Nbr de données\",size=14)\n",
    "plt.xticks(size=14, rotation=60)\n",
    "plt.grid()"
   ]
  },
  {
   "cell_type": "code",
   "execution_count": 23,
   "metadata": {},
   "outputs": [
    {
     "data": {
      "image/png": "[encoded data removed]",
      "text/plain": [
       "<Figure size 648x432 with 1 Axes>"
      ]
     },
     "metadata": {},
     "output_type": "display_data"
    }
   ],
   "source": [
    "\n",
    "#On trace le graphique contenant la part de produits vendus en France\n",
    "labels = ['Produits vendus dans le monde', 'Produits vendus en France']\n",
    "sizes = [data.shape[0],vendus_France.shape[0]]\n",
    "explode = (0, 0.1)\n",
    "color = ['#ff9999','#66b3ff']\n",
    "\n",
    "fig1, ax1 = plt.subplots(figsize=(9, 6))\n",
    "\n",
    "ax1.pie(sizes, labels=labels,explode=explode, autopct='%1.1f%%', shadow=True, startangle=140, textprops={'fontsize': 12})\n",
    "\n",
    "# Equal aspect ratio ensures that pie is drawn as a circle\n",
    "ax1.axis('equal')\n",
    "plt.title(\"Produits vendus en France \\n\" + \"Par rapport à la quantité mondiale\", bbox={'facecolor':'0.8', 'pad':5})\n",
    "plt.tight_layout()\n",
    "plt.show()"
   ]
  },
  {
   "cell_type": "markdown",
   "metadata": {},
   "source": [
    "# Enregistrement du dataset de travail\n",
    "\n",
    "Nous avons un dataset comportant :\n",
    " - Tous les produits vendus en France\n",
    " - Toutes les données nutritives exploitables en taux de remplissage de données\n",
    " - L'indicateur de grade nutritionnel\n",
    " - L'indicateur du groupe NOVA qui représente le degré de modification d'un produit\n",
    " - Les noms des produits.\n",
    " \n",
    "Nous pouvons donc enregistrer ce dataset et commencer l'analyse des variables."
   ]
  },
  {
   "cell_type": "code",
   "execution_count": 24,
   "metadata": {},
   "outputs": [],
   "source": [
    "#On enregistre notre dataframe nettoyé pour les prochaines analyses\n",
    "#vendus_France_nettoye.to_csv('produits_vendus_France.csv', index=False, encoding='utf-8', header=True, sep='\\t')\n",
    "\n",
    "# feather does not support serializing a non-default index\n",
    "df_travail = df_travail.reset_index()\n",
    "#data_nettoye.to_csv(\"produits_vendus_France.csv\",index=False)\n",
    "df_travail.to_feather(\"data_monde_outlier_100.ft\")"
   ]
  },
  {
   "cell_type": "markdown",
   "metadata": {
    "jupyter": {
     "source_hidden": true
    }
   },
   "source": [
    "## Une fois le nouveau dataset créé, on s'occupe des lignes dupliquées :"
   ]
  },
  {
   "cell_type": "code",
   "execution_count": 26,
   "metadata": {
    "collapsed": true,
    "jupyter": {
     "outputs_hidden": true,
     "source_hidden": true
    }
   },
   "outputs": [
    {
     "data": {
      "text/html": [
       "<div>\n",
       "<style scoped>\n",
       "    .dataframe tbody tr th:only-of-type {\n",
       "        vertical-align: middle;\n",
       "    }\n",
       "\n",
       "    .dataframe tbody tr th {\n",
       "        vertical-align: top;\n",
       "    }\n",
       "\n",
       "    .dataframe thead th {\n",
       "        text-align: right;\n",
       "    }\n",
       "</style>\n",
       "<table border=\"1\" class=\"dataframe\">\n",
       "  <thead>\n",
       "    <tr style=\"text-align: right;\">\n",
       "      <th></th>\n",
       "      <th>code</th>\n",
       "      <th>url</th>\n",
       "      <th>creator</th>\n",
       "      <th>created_t</th>\n",
       "      <th>created_datetime</th>\n",
       "      <th>last_modified_t</th>\n",
       "      <th>last_modified_datetime</th>\n",
       "      <th>product_name</th>\n",
       "      <th>generic_name</th>\n",
       "      <th>quantity</th>\n",
       "      <th>...</th>\n",
       "      <th>carbon-footprint-from-meat-or-fish_100g</th>\n",
       "      <th>nutrition-score-fr_100g</th>\n",
       "      <th>nutrition-score-uk_100g</th>\n",
       "      <th>glycemic-index_100g</th>\n",
       "      <th>water-hardness_100g</th>\n",
       "      <th>choline_100g</th>\n",
       "      <th>phylloquinone_100g</th>\n",
       "      <th>beta-glucan_100g</th>\n",
       "      <th>inositol_100g</th>\n",
       "      <th>carnitine_100g</th>\n",
       "    </tr>\n",
       "  </thead>\n",
       "  <tbody>\n",
       "    <tr>\n",
       "      <th>366109</th>\n",
       "      <td>3217690055020</td>\n",
       "      <td>http://world-fr.openfoodfacts.org/produit/3217...</td>\n",
       "      <td>kiliweb</td>\n",
       "      <td>1554670701</td>\n",
       "      <td>2019-04-07T20:58:21Z</td>\n",
       "      <td>1556111603</td>\n",
       "      <td>2019-04-24T13:13:23Z</td>\n",
       "      <td>Syrup green apple</td>\n",
       "      <td>NaN</td>\n",
       "      <td>NaN</td>\n",
       "      <td>...</td>\n",
       "      <td>NaN</td>\n",
       "      <td>NaN</td>\n",
       "      <td>NaN</td>\n",
       "      <td>NaN</td>\n",
       "      <td>NaN</td>\n",
       "      <td>NaN</td>\n",
       "      <td>NaN</td>\n",
       "      <td>NaN</td>\n",
       "      <td>NaN</td>\n",
       "      <td>NaN</td>\n",
       "    </tr>\n",
       "    <tr>\n",
       "      <th>366110</th>\n",
       "      <td>3217690055020</td>\n",
       "      <td>http://world-fr.openfoodfacts.org/produit/3217...</td>\n",
       "      <td>kiliweb</td>\n",
       "      <td>1554670701</td>\n",
       "      <td>2019-04-07T20:58:21Z</td>\n",
       "      <td>1556111603</td>\n",
       "      <td>2019-04-24T13:13:23Z</td>\n",
       "      <td>Syrup green apple</td>\n",
       "      <td>NaN</td>\n",
       "      <td>NaN</td>\n",
       "      <td>...</td>\n",
       "      <td>NaN</td>\n",
       "      <td>NaN</td>\n",
       "      <td>NaN</td>\n",
       "      <td>NaN</td>\n",
       "      <td>NaN</td>\n",
       "      <td>NaN</td>\n",
       "      <td>NaN</td>\n",
       "      <td>NaN</td>\n",
       "      <td>NaN</td>\n",
       "      <td>NaN</td>\n",
       "    </tr>\n",
       "    <tr>\n",
       "      <th>563085</th>\n",
       "      <td>3700225107238</td>\n",
       "      <td>http://world-fr.openfoodfacts.org/produit/3700...</td>\n",
       "      <td>kiliweb</td>\n",
       "      <td>1558182525</td>\n",
       "      <td>2019-05-18T12:28:45Z</td>\n",
       "      <td>1558183963</td>\n",
       "      <td>2019-05-18T12:52:43Z</td>\n",
       "      <td>Lentilles corail</td>\n",
       "      <td>NaN</td>\n",
       "      <td>500 g</td>\n",
       "      <td>...</td>\n",
       "      <td>NaN</td>\n",
       "      <td>NaN</td>\n",
       "      <td>NaN</td>\n",
       "      <td>NaN</td>\n",
       "      <td>NaN</td>\n",
       "      <td>NaN</td>\n",
       "      <td>NaN</td>\n",
       "      <td>NaN</td>\n",
       "      <td>NaN</td>\n",
       "      <td>NaN</td>\n",
       "    </tr>\n",
       "    <tr>\n",
       "      <th>563086</th>\n",
       "      <td>3700225107238</td>\n",
       "      <td>http://world-fr.openfoodfacts.org/produit/3700...</td>\n",
       "      <td>kiliweb</td>\n",
       "      <td>1558182525</td>\n",
       "      <td>2019-05-18T12:28:45Z</td>\n",
       "      <td>1558183963</td>\n",
       "      <td>2019-05-18T12:52:43Z</td>\n",
       "      <td>Lentilles corail</td>\n",
       "      <td>NaN</td>\n",
       "      <td>500 g</td>\n",
       "      <td>...</td>\n",
       "      <td>NaN</td>\n",
       "      <td>NaN</td>\n",
       "      <td>NaN</td>\n",
       "      <td>NaN</td>\n",
       "      <td>NaN</td>\n",
       "      <td>NaN</td>\n",
       "      <td>NaN</td>\n",
       "      <td>NaN</td>\n",
       "      <td>NaN</td>\n",
       "      <td>NaN</td>\n",
       "    </tr>\n",
       "    <tr>\n",
       "      <th>595023</th>\n",
       "      <td>3760124630473</td>\n",
       "      <td>http://world-fr.openfoodfacts.org/produit/3760...</td>\n",
       "      <td>openfoodfacts-contributors</td>\n",
       "      <td>1552607164</td>\n",
       "      <td>2019-03-14T23:46:04Z</td>\n",
       "      <td>1556658319</td>\n",
       "      <td>2019-04-30T21:05:19Z</td>\n",
       "      <td>NaN</td>\n",
       "      <td>NaN</td>\n",
       "      <td>NaN</td>\n",
       "      <td>...</td>\n",
       "      <td>NaN</td>\n",
       "      <td>NaN</td>\n",
       "      <td>NaN</td>\n",
       "      <td>NaN</td>\n",
       "      <td>NaN</td>\n",
       "      <td>NaN</td>\n",
       "      <td>NaN</td>\n",
       "      <td>NaN</td>\n",
       "      <td>NaN</td>\n",
       "      <td>NaN</td>\n",
       "    </tr>\n",
       "    <tr>\n",
       "      <th>595024</th>\n",
       "      <td>3760124630473</td>\n",
       "      <td>http://world-fr.openfoodfacts.org/produit/3760...</td>\n",
       "      <td>openfoodfacts-contributors</td>\n",
       "      <td>1552607164</td>\n",
       "      <td>2019-03-14T23:46:04Z</td>\n",
       "      <td>1556658319</td>\n",
       "      <td>2019-04-30T21:05:19Z</td>\n",
       "      <td>NaN</td>\n",
       "      <td>NaN</td>\n",
       "      <td>NaN</td>\n",
       "      <td>...</td>\n",
       "      <td>NaN</td>\n",
       "      <td>NaN</td>\n",
       "      <td>NaN</td>\n",
       "      <td>NaN</td>\n",
       "      <td>NaN</td>\n",
       "      <td>NaN</td>\n",
       "      <td>NaN</td>\n",
       "      <td>NaN</td>\n",
       "      <td>NaN</td>\n",
       "      <td>NaN</td>\n",
       "    </tr>\n",
       "    <tr>\n",
       "      <th>904305</th>\n",
       "      <td>8718546163784</td>\n",
       "      <td>http://world-fr.openfoodfacts.org/produit/8718...</td>\n",
       "      <td>teolemon</td>\n",
       "      <td>1544099493</td>\n",
       "      <td>2018-12-06T12:31:33Z</td>\n",
       "      <td>1544099563</td>\n",
       "      <td>2018-12-06T12:32:43Z</td>\n",
       "      <td>NaN</td>\n",
       "      <td>NaN</td>\n",
       "      <td>NaN</td>\n",
       "      <td>...</td>\n",
       "      <td>NaN</td>\n",
       "      <td>NaN</td>\n",
       "      <td>NaN</td>\n",
       "      <td>NaN</td>\n",
       "      <td>NaN</td>\n",
       "      <td>NaN</td>\n",
       "      <td>NaN</td>\n",
       "      <td>NaN</td>\n",
       "      <td>NaN</td>\n",
       "      <td>NaN</td>\n",
       "    </tr>\n",
       "    <tr>\n",
       "      <th>904306</th>\n",
       "      <td>8718546163784</td>\n",
       "      <td>http://world-fr.openfoodfacts.org/produit/8718...</td>\n",
       "      <td>teolemon</td>\n",
       "      <td>1544099493</td>\n",
       "      <td>2018-12-06T12:31:33Z</td>\n",
       "      <td>1544099563</td>\n",
       "      <td>2018-12-06T12:32:43Z</td>\n",
       "      <td>NaN</td>\n",
       "      <td>NaN</td>\n",
       "      <td>NaN</td>\n",
       "      <td>...</td>\n",
       "      <td>NaN</td>\n",
       "      <td>NaN</td>\n",
       "      <td>NaN</td>\n",
       "      <td>NaN</td>\n",
       "      <td>NaN</td>\n",
       "      <td>NaN</td>\n",
       "      <td>NaN</td>\n",
       "      <td>NaN</td>\n",
       "      <td>NaN</td>\n",
       "      <td>NaN</td>\n",
       "    </tr>\n",
       "  </tbody>\n",
       "</table>\n",
       "<p>8 rows × 175 columns</p>\n",
       "</div>"
      ],
      "text/plain": [
       "                 code                                                url  \\\n",
       "366109  3217690055020  http://world-fr.openfoodfacts.org/produit/3217...   \n",
       "366110  3217690055020  http://world-fr.openfoodfacts.org/produit/3217...   \n",
       "563085  3700225107238  http://world-fr.openfoodfacts.org/produit/3700...   \n",
       "563086  3700225107238  http://world-fr.openfoodfacts.org/produit/3700...   \n",
       "595023  3760124630473  http://world-fr.openfoodfacts.org/produit/3760...   \n",
       "595024  3760124630473  http://world-fr.openfoodfacts.org/produit/3760...   \n",
       "904305  8718546163784  http://world-fr.openfoodfacts.org/produit/8718...   \n",
       "904306  8718546163784  http://world-fr.openfoodfacts.org/produit/8718...   \n",
       "\n",
       "                           creator   created_t      created_datetime  \\\n",
       "366109                     kiliweb  1554670701  2019-04-07T20:58:21Z   \n",
       "366110                     kiliweb  1554670701  2019-04-07T20:58:21Z   \n",
       "563085                     kiliweb  1558182525  2019-05-18T12:28:45Z   \n",
       "563086                     kiliweb  1558182525  2019-05-18T12:28:45Z   \n",
       "595023  openfoodfacts-contributors  1552607164  2019-03-14T23:46:04Z   \n",
       "595024  openfoodfacts-contributors  1552607164  2019-03-14T23:46:04Z   \n",
       "904305                    teolemon  1544099493  2018-12-06T12:31:33Z   \n",
       "904306                    teolemon  1544099493  2018-12-06T12:31:33Z   \n",
       "\n",
       "        last_modified_t last_modified_datetime       product_name  \\\n",
       "366109       1556111603   2019-04-24T13:13:23Z  Syrup green apple   \n",
       "366110       1556111603   2019-04-24T13:13:23Z  Syrup green apple   \n",
       "563085       1558183963   2019-05-18T12:52:43Z   Lentilles corail   \n",
       "563086       1558183963   2019-05-18T12:52:43Z   Lentilles corail   \n",
       "595023       1556658319   2019-04-30T21:05:19Z                NaN   \n",
       "595024       1556658319   2019-04-30T21:05:19Z                NaN   \n",
       "904305       1544099563   2018-12-06T12:32:43Z                NaN   \n",
       "904306       1544099563   2018-12-06T12:32:43Z                NaN   \n",
       "\n",
       "       generic_name quantity  ... carbon-footprint-from-meat-or-fish_100g  \\\n",
       "366109          NaN      NaN  ...                                     NaN   \n",
       "366110          NaN      NaN  ...                                     NaN   \n",
       "563085          NaN    500 g  ...                                     NaN   \n",
       "563086          NaN    500 g  ...                                     NaN   \n",
       "595023          NaN      NaN  ...                                     NaN   \n",
       "595024          NaN      NaN  ...                                     NaN   \n",
       "904305          NaN      NaN  ...                                     NaN   \n",
       "904306          NaN      NaN  ...                                     NaN   \n",
       "\n",
       "       nutrition-score-fr_100g nutrition-score-uk_100g glycemic-index_100g  \\\n",
       "366109                     NaN                     NaN                 NaN   \n",
       "366110                     NaN                     NaN                 NaN   \n",
       "563085                     NaN                     NaN                 NaN   \n",
       "563086                     NaN                     NaN                 NaN   \n",
       "595023                     NaN                     NaN                 NaN   \n",
       "595024                     NaN                     NaN                 NaN   \n",
       "904305                     NaN                     NaN                 NaN   \n",
       "904306                     NaN                     NaN                 NaN   \n",
       "\n",
       "       water-hardness_100g choline_100g phylloquinone_100g beta-glucan_100g  \\\n",
       "366109                 NaN          NaN                NaN              NaN   \n",
       "366110                 NaN          NaN                NaN              NaN   \n",
       "563085                 NaN          NaN                NaN              NaN   \n",
       "563086                 NaN          NaN                NaN              NaN   \n",
       "595023                 NaN          NaN                NaN              NaN   \n",
       "595024                 NaN          NaN                NaN              NaN   \n",
       "904305                 NaN          NaN                NaN              NaN   \n",
       "904306                 NaN          NaN                NaN              NaN   \n",
       "\n",
       "       inositol_100g carnitine_100g  \n",
       "366109           NaN            NaN  \n",
       "366110           NaN            NaN  \n",
       "563085           NaN            NaN  \n",
       "563086           NaN            NaN  \n",
       "595023           NaN            NaN  \n",
       "595024           NaN            NaN  \n",
       "904305           NaN            NaN  \n",
       "904306           NaN            NaN  \n",
       "\n",
       "[8 rows x 175 columns]"
      ]
     },
     "execution_count": 26,
     "metadata": {},
     "output_type": "execute_result"
    }
   ],
   "source": [
    "#On analyse les lignes dupliquées\n",
    "#On recherche en premier les lignes dupliquées entièrement\n",
    "produits_dupliques = vendus_France.loc[vendus_France.duplicated(keep=False),:]\n",
    "produits_dupliques"
   ]
  },
  {
   "cell_type": "code",
   "execution_count": 27,
   "metadata": {
    "collapsed": true,
    "jupyter": {
     "outputs_hidden": true,
     "source_hidden": true
    }
   },
   "outputs": [
    {
     "data": {
      "text/plain": [
       "(589299, 175)"
      ]
     },
     "execution_count": 27,
     "metadata": {},
     "output_type": "execute_result"
    }
   ],
   "source": [
    "#On supprime les lignes dupliquées\n",
    "#On caonstate qu'il nous a bien supprimé 4 lignes sur les 8 identifiées précédemment\n",
    "vendus_France_nettoye = vendus_France.drop_duplicates(keep='first')\n",
    "vendus_France_nettoye.shape"
   ]
  },
  {
   "cell_type": "code",
   "execution_count": 28,
   "metadata": {
    "collapsed": true,
    "jupyter": {
     "outputs_hidden": true,
     "source_hidden": true
    }
   },
   "outputs": [
    {
     "data": {
      "text/plain": [
       "(176, 175)"
      ]
     },
     "execution_count": 28,
     "metadata": {},
     "output_type": "execute_result"
    }
   ],
   "source": [
    "#On analyse maintenant les produits dupliquées par leur code_barres\n",
    "\n",
    "pd.set_option('display.max_columns', 175)\n",
    "produits_dupliques = vendus_France_nettoye.loc[vendus_France_nettoye.duplicated(subset=['code'],keep=False),:]\n",
    "\n",
    "produits_dupliques.shape"
   ]
  },
  {
   "cell_type": "code",
   "execution_count": 29,
   "metadata": {
    "jupyter": {
     "source_hidden": true
    }
   },
   "outputs": [],
   "source": [
    "#On réinitialise l'affichage de pandas\n",
    "pd.reset_option(\"^display\")"
   ]
  },
  {
   "cell_type": "code",
   "execution_count": 30,
   "metadata": {
    "collapsed": true,
    "jupyter": {
     "outputs_hidden": true,
     "source_hidden": true
    }
   },
   "outputs": [
    {
     "data": {
      "text/plain": [
       "(589211, 175)"
      ]
     },
     "execution_count": 30,
     "metadata": {},
     "output_type": "execute_result"
    }
   ],
   "source": [
    "#Après analyse visuelle des lignes dupliquées par code barres, on se rends compte que ce ne sont que des doublons \"ordinaires\" avec les mêmes données nutritionnelles\n",
    "#Nous pouvons donc les supprimer simplement\n",
    "vendus_France_nettoye = vendus_France_nettoye.drop_duplicates(subset=['code'],keep='first')\n",
    "vendus_France_nettoye.shape"
   ]
  },
  {
   "cell_type": "code",
   "execution_count": 31,
   "metadata": {
    "collapsed": true,
    "jupyter": {
     "outputs_hidden": true,
     "source_hidden": true
    }
   },
   "outputs": [
    {
     "data": {
      "text/plain": [
       "92"
      ]
     },
     "execution_count": 31,
     "metadata": {},
     "output_type": "execute_result"
    }
   ],
   "source": [
    "nombre_lignes_supprimee = vendus_France.shape[0] - vendus_France_nettoye.shape[0]\n",
    "nombre_lignes_supprimee"
   ]
  },
  {
   "cell_type": "markdown",
   "metadata": {
    "jupyter": {
     "source_hidden": true
    }
   },
   "source": [
    "## Cette étape nous a permis de supprimer 92 lignes.\n",
    "\n",
    "Anaysons le nouveau Dataset nettoyé."
   ]
  },
  {
   "cell_type": "code",
   "execution_count": 32,
   "metadata": {
    "collapsed": true,
    "jupyter": {
     "outputs_hidden": true,
     "source_hidden": true
    }
   },
   "outputs": [
    {
     "data": {
      "text/html": [
       "<div>\n",
       "<style scoped>\n",
       "    .dataframe tbody tr th:only-of-type {\n",
       "        vertical-align: middle;\n",
       "    }\n",
       "\n",
       "    .dataframe tbody tr th {\n",
       "        vertical-align: top;\n",
       "    }\n",
       "\n",
       "    .dataframe thead th {\n",
       "        text-align: right;\n",
       "    }\n",
       "</style>\n",
       "<table border=\"1\" class=\"dataframe\">\n",
       "  <thead>\n",
       "    <tr style=\"text-align: right;\">\n",
       "      <th></th>\n",
       "      <th>created_t</th>\n",
       "      <th>last_modified_t</th>\n",
       "      <th>cities</th>\n",
       "      <th>allergens_fr</th>\n",
       "      <th>serving_quantity</th>\n",
       "      <th>no_nutriments</th>\n",
       "      <th>additives_n</th>\n",
       "      <th>ingredients_from_palm_oil_n</th>\n",
       "      <th>ingredients_from_palm_oil</th>\n",
       "      <th>ingredients_that_may_be_from_palm_oil_n</th>\n",
       "      <th>...</th>\n",
       "      <th>carbon-footprint-from-meat-or-fish_100g</th>\n",
       "      <th>nutrition-score-fr_100g</th>\n",
       "      <th>nutrition-score-uk_100g</th>\n",
       "      <th>glycemic-index_100g</th>\n",
       "      <th>water-hardness_100g</th>\n",
       "      <th>choline_100g</th>\n",
       "      <th>phylloquinone_100g</th>\n",
       "      <th>beta-glucan_100g</th>\n",
       "      <th>inositol_100g</th>\n",
       "      <th>carnitine_100g</th>\n",
       "    </tr>\n",
       "  </thead>\n",
       "  <tbody>\n",
       "    <tr>\n",
       "      <th>count</th>\n",
       "      <td>5.892110e+05</td>\n",
       "      <td>5.892110e+05</td>\n",
       "      <td>0.0</td>\n",
       "      <td>0.0</td>\n",
       "      <td>6.144800e+04</td>\n",
       "      <td>0.0</td>\n",
       "      <td>209723.000000</td>\n",
       "      <td>209723.000000</td>\n",
       "      <td>0.0</td>\n",
       "      <td>209723.000000</td>\n",
       "      <td>...</td>\n",
       "      <td>9144.000000</td>\n",
       "      <td>197217.000000</td>\n",
       "      <td>197217.000000</td>\n",
       "      <td>3.000000</td>\n",
       "      <td>0.0</td>\n",
       "      <td>27.000000</td>\n",
       "      <td>1.000000</td>\n",
       "      <td>14.000000</td>\n",
       "      <td>22.000000</td>\n",
       "      <td>13.000000</td>\n",
       "    </tr>\n",
       "    <tr>\n",
       "      <th>mean</th>\n",
       "      <td>1.517257e+09</td>\n",
       "      <td>1.540663e+09</td>\n",
       "      <td>NaN</td>\n",
       "      <td>NaN</td>\n",
       "      <td>1.627392e+18</td>\n",
       "      <td>NaN</td>\n",
       "      <td>1.583422</td>\n",
       "      <td>0.054195</td>\n",
       "      <td>NaN</td>\n",
       "      <td>0.101424</td>\n",
       "      <td>...</td>\n",
       "      <td>635.628859</td>\n",
       "      <td>9.690782</td>\n",
       "      <td>9.397770</td>\n",
       "      <td>29.333333</td>\n",
       "      <td>NaN</td>\n",
       "      <td>0.068900</td>\n",
       "      <td>0.000045</td>\n",
       "      <td>5.085714</td>\n",
       "      <td>0.035588</td>\n",
       "      <td>0.051477</td>\n",
       "    </tr>\n",
       "    <tr>\n",
       "      <th>std</th>\n",
       "      <td>3.962441e+07</td>\n",
       "      <td>2.199975e+07</td>\n",
       "      <td>NaN</td>\n",
       "      <td>NaN</td>\n",
       "      <td>4.034095e+20</td>\n",
       "      <td>NaN</td>\n",
       "      <td>2.346092</td>\n",
       "      <td>0.229208</td>\n",
       "      <td>NaN</td>\n",
       "      <td>0.379433</td>\n",
       "      <td>...</td>\n",
       "      <td>6903.000160</td>\n",
       "      <td>8.742547</td>\n",
       "      <td>9.291241</td>\n",
       "      <td>15.011107</td>\n",
       "      <td>NaN</td>\n",
       "      <td>0.032583</td>\n",
       "      <td>NaN</td>\n",
       "      <td>5.082679</td>\n",
       "      <td>0.032069</td>\n",
       "      <td>0.156405</td>\n",
       "    </tr>\n",
       "    <tr>\n",
       "      <th>min</th>\n",
       "      <td>0.000000e+00</td>\n",
       "      <td>1.333873e+09</td>\n",
       "      <td>NaN</td>\n",
       "      <td>NaN</td>\n",
       "      <td>0.000000e+00</td>\n",
       "      <td>NaN</td>\n",
       "      <td>0.000000</td>\n",
       "      <td>0.000000</td>\n",
       "      <td>NaN</td>\n",
       "      <td>0.000000</td>\n",
       "      <td>...</td>\n",
       "      <td>0.049000</td>\n",
       "      <td>-15.000000</td>\n",
       "      <td>-15.000000</td>\n",
       "      <td>14.000000</td>\n",
       "      <td>NaN</td>\n",
       "      <td>0.008000</td>\n",
       "      <td>0.000045</td>\n",
       "      <td>0.400000</td>\n",
       "      <td>0.002110</td>\n",
       "      <td>0.006500</td>\n",
       "    </tr>\n",
       "    <tr>\n",
       "      <th>25%</th>\n",
       "      <td>1.508771e+09</td>\n",
       "      <td>1.532113e+09</td>\n",
       "      <td>NaN</td>\n",
       "      <td>NaN</td>\n",
       "      <td>3.000000e+01</td>\n",
       "      <td>NaN</td>\n",
       "      <td>0.000000</td>\n",
       "      <td>0.000000</td>\n",
       "      <td>NaN</td>\n",
       "      <td>0.000000</td>\n",
       "      <td>...</td>\n",
       "      <td>116.180000</td>\n",
       "      <td>2.000000</td>\n",
       "      <td>1.000000</td>\n",
       "      <td>22.000000</td>\n",
       "      <td>NaN</td>\n",
       "      <td>0.056500</td>\n",
       "      <td>0.000045</td>\n",
       "      <td>3.000000</td>\n",
       "      <td>0.021000</td>\n",
       "      <td>0.007000</td>\n",
       "    </tr>\n",
       "    <tr>\n",
       "      <th>50%</th>\n",
       "      <td>1.525958e+09</td>\n",
       "      <td>1.546992e+09</td>\n",
       "      <td>NaN</td>\n",
       "      <td>NaN</td>\n",
       "      <td>8.000000e+01</td>\n",
       "      <td>NaN</td>\n",
       "      <td>1.000000</td>\n",
       "      <td>0.000000</td>\n",
       "      <td>NaN</td>\n",
       "      <td>0.000000</td>\n",
       "      <td>...</td>\n",
       "      <td>343.415000</td>\n",
       "      <td>11.000000</td>\n",
       "      <td>10.000000</td>\n",
       "      <td>30.000000</td>\n",
       "      <td>NaN</td>\n",
       "      <td>0.069000</td>\n",
       "      <td>0.000045</td>\n",
       "      <td>3.950000</td>\n",
       "      <td>0.025000</td>\n",
       "      <td>0.007300</td>\n",
       "    </tr>\n",
       "    <tr>\n",
       "      <th>75%</th>\n",
       "      <td>1.541801e+09</td>\n",
       "      <td>1.554569e+09</td>\n",
       "      <td>NaN</td>\n",
       "      <td>NaN</td>\n",
       "      <td>1.500000e+02</td>\n",
       "      <td>NaN</td>\n",
       "      <td>2.000000</td>\n",
       "      <td>0.000000</td>\n",
       "      <td>NaN</td>\n",
       "      <td>0.000000</td>\n",
       "      <td>...</td>\n",
       "      <td>614.212500</td>\n",
       "      <td>16.000000</td>\n",
       "      <td>18.000000</td>\n",
       "      <td>37.000000</td>\n",
       "      <td>NaN</td>\n",
       "      <td>0.089000</td>\n",
       "      <td>0.000045</td>\n",
       "      <td>5.275000</td>\n",
       "      <td>0.040750</td>\n",
       "      <td>0.009500</td>\n",
       "    </tr>\n",
       "    <tr>\n",
       "      <th>max</th>\n",
       "      <td>1.563754e+09</td>\n",
       "      <td>1.563754e+09</td>\n",
       "      <td>NaN</td>\n",
       "      <td>NaN</td>\n",
       "      <td>1.000000e+23</td>\n",
       "      <td>NaN</td>\n",
       "      <td>30.000000</td>\n",
       "      <td>3.000000</td>\n",
       "      <td>NaN</td>\n",
       "      <td>5.000000</td>\n",
       "      <td>...</td>\n",
       "      <td>656298.600000</td>\n",
       "      <td>40.000000</td>\n",
       "      <td>40.000000</td>\n",
       "      <td>44.000000</td>\n",
       "      <td>NaN</td>\n",
       "      <td>0.130000</td>\n",
       "      <td>0.000045</td>\n",
       "      <td>21.500000</td>\n",
       "      <td>0.150000</td>\n",
       "      <td>0.572000</td>\n",
       "    </tr>\n",
       "  </tbody>\n",
       "</table>\n",
       "<p>8 rows × 119 columns</p>\n",
       "</div>"
      ],
      "text/plain": [
       "          created_t  last_modified_t  cities  allergens_fr  serving_quantity  \\\n",
       "count  5.892110e+05     5.892110e+05     0.0           0.0      6.144800e+04   \n",
       "mean   1.517257e+09     1.540663e+09     NaN           NaN      1.627392e+18   \n",
       "std    3.962441e+07     2.199975e+07     NaN           NaN      4.034095e+20   \n",
       "min    0.000000e+00     1.333873e+09     NaN           NaN      0.000000e+00   \n",
       "25%    1.508771e+09     1.532113e+09     NaN           NaN      3.000000e+01   \n",
       "50%    1.525958e+09     1.546992e+09     NaN           NaN      8.000000e+01   \n",
       "75%    1.541801e+09     1.554569e+09     NaN           NaN      1.500000e+02   \n",
       "max    1.563754e+09     1.563754e+09     NaN           NaN      1.000000e+23   \n",
       "\n",
       "       no_nutriments    additives_n  ingredients_from_palm_oil_n  \\\n",
       "count            0.0  209723.000000                209723.000000   \n",
       "mean             NaN       1.583422                     0.054195   \n",
       "std              NaN       2.346092                     0.229208   \n",
       "min              NaN       0.000000                     0.000000   \n",
       "25%              NaN       0.000000                     0.000000   \n",
       "50%              NaN       1.000000                     0.000000   \n",
       "75%              NaN       2.000000                     0.000000   \n",
       "max              NaN      30.000000                     3.000000   \n",
       "\n",
       "       ingredients_from_palm_oil  ingredients_that_may_be_from_palm_oil_n  \\\n",
       "count                        0.0                            209723.000000   \n",
       "mean                         NaN                                 0.101424   \n",
       "std                          NaN                                 0.379433   \n",
       "min                          NaN                                 0.000000   \n",
       "25%                          NaN                                 0.000000   \n",
       "50%                          NaN                                 0.000000   \n",
       "75%                          NaN                                 0.000000   \n",
       "max                          NaN                                 5.000000   \n",
       "\n",
       "       ...  carbon-footprint-from-meat-or-fish_100g  nutrition-score-fr_100g  \\\n",
       "count  ...                              9144.000000            197217.000000   \n",
       "mean   ...                               635.628859                 9.690782   \n",
       "std    ...                              6903.000160                 8.742547   \n",
       "min    ...                                 0.049000               -15.000000   \n",
       "25%    ...                               116.180000                 2.000000   \n",
       "50%    ...                               343.415000                11.000000   \n",
       "75%    ...                               614.212500                16.000000   \n",
       "max    ...                            656298.600000                40.000000   \n",
       "\n",
       "       nutrition-score-uk_100g  glycemic-index_100g  water-hardness_100g  \\\n",
       "count            197217.000000             3.000000                  0.0   \n",
       "mean                  9.397770            29.333333                  NaN   \n",
       "std                   9.291241            15.011107                  NaN   \n",
       "min                 -15.000000            14.000000                  NaN   \n",
       "25%                   1.000000            22.000000                  NaN   \n",
       "50%                  10.000000            30.000000                  NaN   \n",
       "75%                  18.000000            37.000000                  NaN   \n",
       "max                  40.000000            44.000000                  NaN   \n",
       "\n",
       "       choline_100g  phylloquinone_100g  beta-glucan_100g  inositol_100g  \\\n",
       "count     27.000000            1.000000         14.000000      22.000000   \n",
       "mean       0.068900            0.000045          5.085714       0.035588   \n",
       "std        0.032583                 NaN          5.082679       0.032069   \n",
       "min        0.008000            0.000045          0.400000       0.002110   \n",
       "25%        0.056500            0.000045          3.000000       0.021000   \n",
       "50%        0.069000            0.000045          3.950000       0.025000   \n",
       "75%        0.089000            0.000045          5.275000       0.040750   \n",
       "max        0.130000            0.000045         21.500000       0.150000   \n",
       "\n",
       "       carnitine_100g  \n",
       "count       13.000000  \n",
       "mean         0.051477  \n",
       "std          0.156405  \n",
       "min          0.006500  \n",
       "25%          0.007000  \n",
       "50%          0.007300  \n",
       "75%          0.009500  \n",
       "max          0.572000  \n",
       "\n",
       "[8 rows x 119 columns]"
      ]
     },
     "execution_count": 32,
     "metadata": {},
     "output_type": "execute_result"
    }
   ],
   "source": [
    "vendus_France_nettoye.describe()"
   ]
  },
  {
   "cell_type": "markdown",
   "metadata": {
    "jupyter": {
     "source_hidden": true
    }
   },
   "source": [
    "Nous avons un dataset filtré uniquement sur les produits vendus en France.\n",
    "\n",
    "Celui-ci étant encore très lourd, nous allons créer un nouveau dataset contenant seulement les indicateurs dont nous avons besoin :\n",
    "\n",
    " - product_name : name of the product\n",
    " - generic_name\n",
    " - quantity : quantity and unit\n",
    " - brands\n",
    " - categories_fr\n",
    " - labels_fr\n",
    " - stores\n",
    " - nutrition_grade_fr : nutrition grade ('a' to 'e'). see http://fr.openfoodfacts.org/score-nutritionnel-experimental-france\n",
    " - main_category\n",
    " - main_category_fr\n",
    " - proteins_100g\n",
    " - fiber_100g\n",
    " - fruits-vegetables-nuts_100g\n",
    " - energy_100g\n",
    " - saturated-fat_100g\n",
    " - sugars_100g\n",
    " - sodium_100g\n",
    " - nutrition-score-fr_100g\n",
    " - nova_group"
   ]
  },
  {
   "cell_type": "code",
   "execution_count": 33,
   "metadata": {
    "collapsed": true,
    "jupyter": {
     "outputs_hidden": true,
     "source_hidden": true
    }
   },
   "outputs": [
    {
     "data": {
      "text/plain": [
       "(589211, 19)"
      ]
     },
     "execution_count": 33,
     "metadata": {},
     "output_type": "execute_result"
    }
   ],
   "source": [
    "#On crée manuellement le dataset\n",
    "data_nettoye = pd.DataFrame(vendus_France_nettoye['product_name'])\n",
    "data_nettoye['generic_name'] = vendus_France_nettoye['generic_name']\n",
    "data_nettoye['quantity'] = vendus_France_nettoye['quantity']\n",
    "data_nettoye['brands'] = vendus_France_nettoye['brands']\n",
    "data_nettoye['main_category'] = vendus_France_nettoye['main_category']\n",
    "data_nettoye['main_category_fr'] = vendus_France_nettoye['main_category_fr']\n",
    "data_nettoye['categories_fr'] = vendus_France_nettoye['categories_fr']\n",
    "data_nettoye['labels_fr'] = vendus_France_nettoye['labels_fr']\n",
    "data_nettoye['stores'] = vendus_France_nettoye['stores']\n",
    "data_nettoye['nova_group'] = vendus_France_nettoye['nova_group']\n",
    "data_nettoye['nutrition_grade_fr'] = vendus_France_nettoye['nutrition_grade_fr']\n",
    "data_nettoye['nutrition-score-fr_100g'] = vendus_France_nettoye['nutrition-score-fr_100g']\n",
    "data_nettoye['proteins_100g'] = vendus_France_nettoye['proteins_100g']\n",
    "data_nettoye['fiber_100g'] = vendus_France_nettoye['fiber_100g']\n",
    "data_nettoye['fruits-vegetables-nuts_100g'] = vendus_France_nettoye['fruits-vegetables-nuts_100g']\n",
    "data_nettoye['energy_100g'] = vendus_France_nettoye['energy_100g']\n",
    "data_nettoye['saturated-fat_100g'] = vendus_France_nettoye['saturated-fat_100g']\n",
    "data_nettoye['sugars_100g'] = vendus_France_nettoye['sugars_100g']\n",
    "data_nettoye['sodium_100g'] = vendus_France_nettoye['sodium_100g']\n",
    "\n",
    "data_nettoye.shape"
   ]
  },
  {
   "cell_type": "code",
   "execution_count": 34,
   "metadata": {
    "collapsed": true,
    "jupyter": {
     "outputs_hidden": true,
     "source_hidden": true
    }
   },
   "outputs": [
    {
     "data": {
      "text/plain": [
       "(589211, 19)"
      ]
     },
     "execution_count": 34,
     "metadata": {},
     "output_type": "execute_result"
    }
   ],
   "source": [
    "#On enlève les lignes qui ne contiennent que des NaN\n",
    "data_nettoye.dropna(how='all', axis=0)\n",
    "data_nettoye.shape"
   ]
  },
  {
   "cell_type": "markdown",
   "metadata": {
    "jupyter": {
     "source_hidden": true
    }
   },
   "source": [
    "#### Ce nouveau dataset devient notre référence pour les prochaines analyses!"
   ]
  },
  {
   "cell_type": "markdown",
   "metadata": {
    "jupyter": {
     "source_hidden": true
    }
   },
   "source": [
    "#### Faisons quelques analyses sur les produits disponibles :"
   ]
  },
  {
   "cell_type": "code",
   "execution_count": 35,
   "metadata": {
    "collapsed": true,
    "jupyter": {
     "outputs_hidden": true,
     "source_hidden": true
    }
   },
   "outputs": [
    {
     "data": {
      "text/plain": [
       "(34198, 175)"
      ]
     },
     "execution_count": 35,
     "metadata": {},
     "output_type": "execute_result"
    }
   ],
   "source": [
    "#On filtre maintenant, à partir des produits vendus en France, ceux qui sont fabriqués en France.\n",
    "fabriques_France = Filtre(vendus_France_nettoye,'manufacturing_places_tags','France')\n",
    "fabriques_France.shape"
   ]
  },
  {
   "cell_type": "code",
   "execution_count": 36,
   "metadata": {
    "collapsed": true,
    "jupyter": {
     "outputs_hidden": true,
     "source_hidden": true
    }
   },
   "outputs": [
    {
     "data": {
      "image/png": "[encoded data removed]",
      "text/plain": [
       "<Figure size 648x432 with 1 Axes>"
      ]
     },
     "metadata": {},
     "output_type": "display_data"
    }
   ],
   "source": [
    "# On trace le graphique de l'analyse précédente\n",
    "\n",
    "chart_pie(['Produits vendus en France', 'Produits fabriqués en France'], \\\n",
    "          [vendus_France_nettoye.shape[0],fabriques_France.shape[0]], \\\n",
    "          ['#ff9999','#66b3ff'], \\\n",
    "          (0, 0.1), \\\n",
    "         \"Produits fabriqués en France \\n\" + \"Par rapport à la quantité de produits vendus en France\")"
   ]
  },
  {
   "cell_type": "code",
   "execution_count": 37,
   "metadata": {
    "collapsed": true,
    "jupyter": {
     "outputs_hidden": true,
     "source_hidden": true
    }
   },
   "outputs": [
    {
     "data": {
      "text/plain": [
       "(46937, 19)"
      ]
     },
     "execution_count": 37,
     "metadata": {},
     "output_type": "execute_result"
    }
   ],
   "source": [
    "#On filtre maintenant, à partir des produits vendus en France, ceux qui sont vendus BIO.\n",
    "produits_bio = Filtre(data_nettoye,'labels_fr','bio')\n",
    "produits_bio.shape"
   ]
  },
  {
   "cell_type": "code",
   "execution_count": 38,
   "metadata": {
    "collapsed": true,
    "jupyter": {
     "outputs_hidden": true,
     "source_hidden": true
    }
   },
   "outputs": [
    {
     "data": {
      "image/png": "[encoded data removed]",
      "text/plain": [
       "<Figure size 648x432 with 1 Axes>"
      ]
     },
     "metadata": {},
     "output_type": "display_data"
    }
   ],
   "source": [
    "# On trace le graphique de l'analyse précédente\n",
    "\n",
    "chart_pie(['Produits vendus en France', 'Produits BIO en France'], \\\n",
    "          [data_nettoye.shape[0],produits_bio.shape[0]], \\\n",
    "          ['#ff9999','#66b3ff'], \\\n",
    "          (0, 0.1), \\\n",
    "         \"Produits BIO vendus en France \\n\" + \"Par rapport à la quantité de produits vendus en France\")"
   ]
  },
  {
   "cell_type": "code",
   "execution_count": 39,
   "metadata": {
    "collapsed": true,
    "jupyter": {
     "outputs_hidden": true,
     "source_hidden": true
    }
   },
   "outputs": [
    {
     "data": {
      "text/html": [
       "<div>\n",
       "<style scoped>\n",
       "    .dataframe tbody tr th:only-of-type {\n",
       "        vertical-align: middle;\n",
       "    }\n",
       "\n",
       "    .dataframe tbody tr th {\n",
       "        vertical-align: top;\n",
       "    }\n",
       "\n",
       "    .dataframe thead th {\n",
       "        text-align: right;\n",
       "    }\n",
       "</style>\n",
       "<table border=\"1\" class=\"dataframe\">\n",
       "  <thead>\n",
       "    <tr style=\"text-align: right;\">\n",
       "      <th></th>\n",
       "      <th>A</th>\n",
       "      <th>B</th>\n",
       "      <th>C</th>\n",
       "      <th>D</th>\n",
       "      <th>E</th>\n",
       "    </tr>\n",
       "  </thead>\n",
       "  <tbody>\n",
       "    <tr>\n",
       "      <th>Nbr produits</th>\n",
       "      <td>25493</td>\n",
       "      <td>26128</td>\n",
       "      <td>41125</td>\n",
       "      <td>62232</td>\n",
       "      <td>42239</td>\n",
       "    </tr>\n",
       "  </tbody>\n",
       "</table>\n",
       "</div>"
      ],
      "text/plain": [
       "                  A      B      C      D      E\n",
       "Nbr produits  25493  26128  41125  62232  42239"
      ]
     },
     "execution_count": 39,
     "metadata": {},
     "output_type": "execute_result"
    }
   ],
   "source": [
    "#On répertorie maintenant les produits par le classement Nutriscore :\n",
    "categ_a = Filtre(data_nettoye,'nutrition_grade_fr','a').shape[0]\n",
    "categ_b = Filtre(data_nettoye,'nutrition_grade_fr','b').shape[0]\n",
    "categ_c = Filtre(data_nettoye,'nutrition_grade_fr','c').shape[0]\n",
    "categ_d = Filtre(data_nettoye,'nutrition_grade_fr','d').shape[0]\n",
    "categ_e = Filtre(data_nettoye,'nutrition_grade_fr','e').shape[0]\n",
    "\n",
    "df_categ = pd.DataFrame({'A' : [categ_a], 'B' : [categ_b], 'C' : [categ_c], 'D' : [categ_d], 'E' : [categ_e]}, index = [\"Nbr produits\"])\n",
    "df_categ               "
   ]
  },
  {
   "cell_type": "code",
   "execution_count": 40,
   "metadata": {
    "collapsed": true,
    "jupyter": {
     "outputs_hidden": true,
     "source_hidden": true
    }
   },
   "outputs": [
    {
     "data": {
      "text/plain": [
       "197217"
      ]
     },
     "execution_count": 40,
     "metadata": {},
     "output_type": "execute_result"
    }
   ],
   "source": [
    "#On calcule le nombre de produits classifiés\n",
    "total_classifies = categ_a + categ_b + categ_c + categ_d + categ_e\n",
    "total_classifies"
   ]
  },
  {
   "cell_type": "code",
   "execution_count": 41,
   "metadata": {
    "collapsed": true,
    "jupyter": {
     "outputs_hidden": true,
     "source_hidden": true
    }
   },
   "outputs": [
    {
     "data": {
      "image/png": "[encoded data removed]",
      "text/plain": [
       "<Figure size 576x576 with 1 Axes>"
      ]
     },
     "metadata": {
      "needs_background": "light"
     },
     "output_type": "display_data"
    }
   ],
   "source": [
    "\n",
    "name = ['A','B','C','D','E']\n",
    "data = [categ_a, categ_b, categ_c, categ_d, categ_e]\n",
    "\n",
    "fig, ax = plt.subplots(figsize=(8, 8))\n",
    "ax.barh(name, data)\n",
    "labels = ax.get_xticklabels()\n",
    "plt.setp(labels, rotation=45, horizontalalignment='right')\n",
    "\n",
    "# Add a vertical line, here we set the style in the function call\n",
    "ax.axvline(total_classifies/5, ls='--', color='r')\n",
    "\n",
    "ax.set(xlim=[0, 70000], xlabel='Nombre de produits', ylabel='Catégories',title=\"Nombre de produits par catégories NutriScore\")\n",
    "\n",
    "plt.show()\n"
   ]
  },
  {
   "cell_type": "code",
   "execution_count": 42,
   "metadata": {
    "collapsed": true,
    "jupyter": {
     "outputs_hidden": true,
     "source_hidden": true
    }
   },
   "outputs": [
    {
     "data": {
      "image/png": "[encoded data removed]",
      "text/plain": [
       "<Figure size 576x576 with 1 Axes>"
      ]
     },
     "metadata": {
      "needs_background": "light"
     },
     "output_type": "display_data"
    }
   ],
   "source": [
    "#Analyse des produits concernés par le nutriscore\n",
    "data = data_nettoye['nutrition-score-fr_100g'].dropna()\n",
    "\n",
    "fig, ax = plt.subplots(figsize=(8, 8))\n",
    "\n",
    "ax.grid(True)\n",
    "\n",
    "ax.boxplot(data,whis=[5,95],meanline=True,showmeans=True)\n",
    "\n",
    "#On paramètre le graphique et on l'affiche\n",
    "ax.set(title=\"Analyse indicateur 'nutrition-score-fr_100g'\", ylabel='Score')\n",
    "\n",
    "plt.show()"
   ]
  },
  {
   "cell_type": "code",
   "execution_count": 43,
   "metadata": {
    "collapsed": true,
    "jupyter": {
     "outputs_hidden": true,
     "source_hidden": true
    }
   },
   "outputs": [
    {
     "data": {
      "text/plain": [
       "391994"
      ]
     },
     "execution_count": 43,
     "metadata": {},
     "output_type": "execute_result"
    }
   ],
   "source": [
    "#On calcule le nombre de produits non concernés par le nutriscore\n",
    "#Pour cela on compte le nombre de lignes nulles dans la colonne nutrition_grade_fr\n",
    "non_categ = data_nettoye['nutrition_grade_fr'].isnull().sum().sum()\n",
    "non_categ"
   ]
  },
  {
   "cell_type": "code",
   "execution_count": 44,
   "metadata": {
    "collapsed": true,
    "jupyter": {
     "outputs_hidden": true,
     "source_hidden": true
    }
   },
   "outputs": [
    {
     "data": {
      "text/plain": [
       "589211"
      ]
     },
     "execution_count": 44,
     "metadata": {},
     "output_type": "execute_result"
    }
   ],
   "source": [
    "total_produits = total_classifies + non_categ\n",
    "total_produits"
   ]
  },
  {
   "cell_type": "code",
   "execution_count": 45,
   "metadata": {
    "collapsed": true,
    "jupyter": {
     "outputs_hidden": true,
     "source_hidden": true
    }
   },
   "outputs": [
    {
     "data": {
      "image/png": "[encoded data removed]",
      "text/plain": [
       "<Figure size 648x432 with 1 Axes>"
      ]
     },
     "metadata": {},
     "output_type": "display_data"
    }
   ],
   "source": [
    "#On trace le graphique de l'analyse précédente\n",
    "\n",
    "chart_pie(['Produits non soumis au NutriScore', 'Produits classifiés'], \\\n",
    "          [non_categ, total_classifies], \\\n",
    "          ['#ff9999','#66b3ff'], \\\n",
    "          (0, 0.1), \\\n",
    "         \"Proportion de produits soumis au NutriScore \\n\" + \"Par rapport à la quantité de produits vendus en France\")\n"
   ]
  },
  {
   "cell_type": "markdown",
   "metadata": {
    "jupyter": {
     "source_hidden": true
    }
   },
   "source": [
    "#### On se rend compte que 2/3 des produits ne sont pas soumis au NutriScore.\n",
    "\n",
    "##### Cela peut-être dû à quatre facteurs :\n",
    " - Ce ne sont pas des produits alimentaires\n",
    " - Ces produits ne sont pas concernés par le NutriScore (Alcool, Fruits et Légumes frais par exemple)\n",
    " - Les sociétés ne sont pas obligées de se soumettre au NutriScore (A ce jour, il y a 164 sociétés qui participent à ce barême dans le monde, dont 156 an France. Source : https://world.openfoodfacts.org/label/nutriscore/brands)\n",
    " - Un manque de fiabilité de la BDD"
   ]
  },
  {
   "cell_type": "code",
   "execution_count": 46,
   "metadata": {
    "collapsed": true,
    "jupyter": {
     "outputs_hidden": true,
     "source_hidden": true
    }
   },
   "outputs": [
    {
     "data": {
      "text/html": [
       "<div>\n",
       "<style scoped>\n",
       "    .dataframe tbody tr th:only-of-type {\n",
       "        vertical-align: middle;\n",
       "    }\n",
       "\n",
       "    .dataframe tbody tr th {\n",
       "        vertical-align: top;\n",
       "    }\n",
       "\n",
       "    .dataframe thead th {\n",
       "        text-align: right;\n",
       "    }\n",
       "</style>\n",
       "<table border=\"1\" class=\"dataframe\">\n",
       "  <thead>\n",
       "    <tr style=\"text-align: right;\">\n",
       "      <th></th>\n",
       "      <th>0</th>\n",
       "    </tr>\n",
       "  </thead>\n",
       "  <tbody>\n",
       "    <tr>\n",
       "      <th>0</th>\n",
       "      <td>NaN</td>\n",
       "    </tr>\n",
       "    <tr>\n",
       "      <th>1</th>\n",
       "      <td>Xsf</td>\n",
       "    </tr>\n",
       "    <tr>\n",
       "      <th>2</th>\n",
       "      <td>Viandes,Volailles,Poulets,Aiguillettes de poulet</td>\n",
       "    </tr>\n",
       "    <tr>\n",
       "      <th>3</th>\n",
       "      <td>Produits de la mer,Poissons,Saumons,Pavés de s...</td>\n",
       "    </tr>\n",
       "    <tr>\n",
       "      <th>4</th>\n",
       "      <td>Aliments et boissons à base de végétaux,Alimen...</td>\n",
       "    </tr>\n",
       "  </tbody>\n",
       "</table>\n",
       "</div>"
      ],
      "text/plain": [
       "                                                   0\n",
       "0                                                NaN\n",
       "1                                                Xsf\n",
       "2   Viandes,Volailles,Poulets,Aiguillettes de poulet\n",
       "3  Produits de la mer,Poissons,Saumons,Pavés de s...\n",
       "4  Aliments et boissons à base de végétaux,Alimen..."
      ]
     },
     "execution_count": 46,
     "metadata": {},
     "output_type": "execute_result"
    }
   ],
   "source": [
    "#On filtre donc tous les produits non classés et on analyse les catégories restantes\n",
    "\n",
    "non_classe = data_nettoye[data_nettoye['nutrition_grade_fr'].isnull()]\n",
    "categ_non_classe = pd.DataFrame(non_classe['categories_fr'].unique())\n",
    "categ_non_classe.head()"
   ]
  },
  {
   "cell_type": "markdown",
   "metadata": {
    "jupyter": {
     "source_hidden": true
    }
   },
   "source": [
    "##### L'analyse précédente ne nous éclaircit pas plus sur les produits non classifiés."
   ]
  },
  {
   "cell_type": "code",
   "execution_count": 1,
   "metadata": {
    "collapsed": true,
    "jupyter": {
     "outputs_hidden": true,
     "source_hidden": true
    }
   },
   "outputs": [
    {
     "ename": "NameError",
     "evalue": "name 'data_nettoye' is not defined",
     "output_type": "error",
     "traceback": [
      "\u001b[1;31m---------------------------------------------------------------------------\u001b[0m",
      "\u001b[1;31mNameError\u001b[0m                                 Traceback (most recent call last)",
      "\u001b[1;32m<ipython-input-1-a77ec616fc94>\u001b[0m in \u001b[0;36m<module>\u001b[1;34m\u001b[0m\n\u001b[0;32m      3\u001b[0m \u001b[1;33m\u001b[0m\u001b[0m\n\u001b[0;32m      4\u001b[0m \u001b[1;31m# feather does not support serializing a non-default index\u001b[0m\u001b[1;33m\u001b[0m\u001b[1;33m\u001b[0m\u001b[1;33m\u001b[0m\u001b[0m\n\u001b[1;32m----> 5\u001b[1;33m \u001b[0mdata_nettoye\u001b[0m \u001b[1;33m=\u001b[0m \u001b[0mdata_nettoye\u001b[0m\u001b[1;33m.\u001b[0m\u001b[0mreset_index\u001b[0m\u001b[1;33m(\u001b[0m\u001b[1;33m)\u001b[0m\u001b[1;33m\u001b[0m\u001b[1;33m\u001b[0m\u001b[0m\n\u001b[0m\u001b[0;32m      6\u001b[0m \u001b[1;31m#data_nettoye.to_csv(\"produits_vendus_France.csv\",index=False)\u001b[0m\u001b[1;33m\u001b[0m\u001b[1;33m\u001b[0m\u001b[1;33m\u001b[0m\u001b[0m\n\u001b[0;32m      7\u001b[0m \u001b[0mdata_nettoye\u001b[0m\u001b[1;33m.\u001b[0m\u001b[0mto_feather\u001b[0m\u001b[1;33m(\u001b[0m\u001b[1;34m\"produits_vendus_France.ft\"\u001b[0m\u001b[1;33m)\u001b[0m\u001b[1;33m\u001b[0m\u001b[1;33m\u001b[0m\u001b[0m\n",
      "\u001b[1;31mNameError\u001b[0m: name 'data_nettoye' is not defined"
     ]
    }
   ],
   "source": [
    "#On enregistre notre dataframe nettoyé pour les prochaines analyses\n",
    "#vendus_France_nettoye.to_csv('produits_vendus_France.csv', index=False, encoding='utf-8', header=True, sep='\\t')\n",
    "\n",
    "# feather does not support serializing a non-default index\n",
    "data_nettoye = data_nettoye.reset_index()\n",
    "#data_nettoye.to_csv(\"produits_vendus_France.csv\",index=False)\n",
    "data_nettoye.to_feather(\"produits_vendus_France.ft\")"
   ]
  },
  {
   "cell_type": "code",
   "execution_count": null,
   "metadata": {
    "jupyter": {
     "source_hidden": true
    }
   },
   "outputs": [],
   "source": []
  }
 ],
 "metadata": {
  "kernelspec": {
   "display_name": "Python 3",
   "language": "python",
   "name": "python3"
  },
  "language_info": {
   "codemirror_mode": {
    "name": "ipython",
    "version": 3
   },
   "file_extension": ".py",
   "mimetype": "text/x-python",
   "name": "python",
   "nbconvert_exporter": "python",
   "pygments_lexer": "ipython3",
   "version": "3.7.4"
  },
  "pycharm": {
   "stem_cell": {
    "cell_type": "raw",
    "metadata": {
     "collapsed": false
    },
    "source": []
   }
  }
 },
 "nbformat": 4,
 "nbformat_minor": 4
}
